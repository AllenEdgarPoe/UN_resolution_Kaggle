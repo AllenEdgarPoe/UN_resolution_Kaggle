{
 "cells": [
  {
   "cell_type": "markdown",
   "metadata": {},
   "source": [
    "### Yes vote ratio per States\n",
    "I did simple analysis on how states respond to UN general assembly. <br>\n",
    "I calculated the ratio of yes_vote per states and the conclusion is quite surprising"
   ]
  },
  {
   "cell_type": "markdown",
   "metadata": {},
   "source": [
    "### Library"
   ]
  },
  {
   "cell_type": "code",
   "execution_count": 1,
   "metadata": {
    "_cell_guid": "79c7e3d0-c299-4dcb-8224-4455121ee9b0",
    "_uuid": "d629ff2d2480ee46fbb7e2d37f6b5fab8052498a"
   },
   "outputs": [
    {
     "data": {
      "text/html": [
       "        <script type=\"text/javascript\">\n",
       "        window.PlotlyConfig = {MathJaxConfig: 'local'};\n",
       "        if (window.MathJax) {MathJax.Hub.Config({SVG: {font: \"STIX-Web\"}});}\n",
       "        if (typeof require !== 'undefined') {\n",
       "        require.undef(\"plotly\");\n",
       "        requirejs.config({\n",
       "            paths: {\n",
       "                'plotly': ['https://cdn.plot.ly/plotly-latest.min']\n",
       "            }\n",
       "        });\n",
       "        require(['plotly'], function(Plotly) {\n",
       "            window._Plotly = Plotly;\n",
       "        });\n",
       "        }\n",
       "        </script>\n",
       "        "
      ]
     },
     "metadata": {},
     "output_type": "display_data"
    }
   ],
   "source": [
    "import os\n",
    "import numpy as np \n",
    "import pandas as pd\n",
    "import matplotlib.pyplot as plt\n",
    "%matplotlib inline\n",
    "import seaborn as sns\n",
    "from plotly.offline import download_plotlyjs, init_notebook_mode, plot, iplot\n",
    "import plotly.graph_objs as go\n",
    "init_notebook_mode(connected = True)"
   ]
  },
  {
   "cell_type": "code",
   "execution_count": 2,
   "metadata": {},
   "outputs": [],
   "source": [
    "state_file = os.path.join(\"../input/general-assembly\",\"states.csv\")\n",
    "state_df = pd.read_csv(state_file) #none 값이 들어간 행 삭제\n",
    "change_name = {'United States of America': \"United States\", \"South Korea\":\"Korea, South\", \"North Korea\":\"Korea, North\",\"German Democratic Republic\":'Germany',\"Myanmar\":'Burma',\"Yemen People's Republic\":'Yemen'}\n",
    "country_list= list(set(state_df['state_name'].dropna().values))"
   ]
  },
  {
   "cell_type": "code",
   "execution_count": 3,
   "metadata": {},
   "outputs": [],
   "source": [
    "yes_vote_ratio = dict()\n",
    "for country in country_list:\n",
    "    new_df = state_df[state_df['state_name']==country]\n",
    "    ratio = sum(new_df['yes_votes'])/sum(new_df['all_votes'])\n",
    "    if country in change_name:\n",
    "        country = change_name[country]\n",
    "    yes_vote_ratio[country] = ratio"
   ]
  },
  {
   "cell_type": "code",
   "execution_count": 4,
   "metadata": {},
   "outputs": [
    {
     "data": {
      "text/plain": [
       "{'Ukraine': 0.7045497451387578,\n",
       " 'New Zealand': 0.6015051740357479,\n",
       " 'Austria': 0.6282314320886335,\n",
       " 'Ecuador': 0.8582016773941876,\n",
       " 'Kazakhstan': 0.8236009732360098,\n",
       " 'Netherlands': 0.5200075145594589,\n",
       " 'Mongolia': 0.8255734726322962,\n",
       " 'Bahrain': 0.9324656188605108,\n",
       " 'Paraguay': 0.7838427947598253,\n",
       " 'German Federal Republic': 0.493196405648267,\n",
       " 'South Africa': 0.6479536399855125,\n",
       " 'Bangladesh': 0.9379163335997869,\n",
       " 'Brazil': 0.8112958065734794,\n",
       " 'Dominica': 0.8766756032171582,\n",
       " 'Antigua & Barbuda': 0.9191232048374905,\n",
       " 'San Marino': 0.6666666666666666,\n",
       " 'Maldives': 0.9324045407636739,\n",
       " 'El Salvador': 0.8227875160324926,\n",
       " 'Libya': 0.8862083689154568,\n",
       " 'Bhutan': 0.9121405750798722,\n",
       " 'Canada': 0.5023456558453744,\n",
       " 'South Sudan': 0.6709677419354839,\n",
       " 'Guinea-Bissau': 0.9556067083196317,\n",
       " 'Slovenia': 0.6365809922295278,\n",
       " 'Latvia': 0.6034985422740525,\n",
       " 'Tajikistan': 0.8410174880763116,\n",
       " 'Belarus': 0.7421815408085431,\n",
       " 'Botswana': 0.9237702807107906,\n",
       " 'Azerbaijan': 0.8670926517571885,\n",
       " 'Qatar': 0.9388667992047713,\n",
       " 'Australia': 0.545779281819891,\n",
       " 'Tonga': 0.7240223463687151,\n",
       " 'Sao Tome and Principe': 0.9670468948035488,\n",
       " 'Angola': 0.9213630406290957,\n",
       " 'Bosnia and Herzegovina': 0.6842513576415826,\n",
       " 'France': 0.42538593481989706,\n",
       " 'Barbados': 0.9075899457861015,\n",
       " 'Portugal': 0.5349276274386406,\n",
       " 'Syria': 0.8344813614262561,\n",
       " 'Benin': 0.9003947062920826,\n",
       " 'Albania': 0.7123524330549956,\n",
       " 'Swaziland': 0.8822203437588053,\n",
       " 'Iraq': 0.8488033996868709,\n",
       " 'Indonesia': 0.8781604618753733,\n",
       " 'Nepal': 0.8729131886477463,\n",
       " 'Korea, South': 0.6404816513761468,\n",
       " 'Greece': 0.6629707512903843,\n",
       " 'East Timor': 0.9699879951980792,\n",
       " 'Zambia': 0.9237918215613383,\n",
       " 'Vanuatu': 0.8928255093002657,\n",
       " 'Yemen': 0.8969645147498931,\n",
       " 'Guyana': 0.9305164319248826,\n",
       " 'Luxembourg': 0.5061022120518688,\n",
       " 'Brunei': 0.9300334946036471,\n",
       " 'Argentina': 0.7758424839076108,\n",
       " 'Togo': 0.8983677910772578,\n",
       " 'Taiwan': 0.559900166389351,\n",
       " 'Pakistan': 0.8500671913995008,\n",
       " 'Kuwait': 0.9301411057136248,\n",
       " 'Federated States of Micronesia': 0.4101858224363386,\n",
       " 'Burundi': 0.9155533148474918,\n",
       " 'Suriname': 0.9405852793378658,\n",
       " 'Mozambique': 0.9422572178477691,\n",
       " 'Cape Verde': 0.9595959595959596,\n",
       " 'Finland': 0.6261298274445357,\n",
       " 'Belize': 0.9333881578947368,\n",
       " 'Uzbekistan': 0.7568523430592397,\n",
       " 'Belgium': 0.48785539446431936,\n",
       " 'Colombia': 0.8266409266409266,\n",
       " 'Uruguay': 0.8125121053650978,\n",
       " 'Congo': 0.8888057840937422,\n",
       " 'Rwanda': 0.9071225071225071,\n",
       " 'Tanzania': 0.9098771051433774,\n",
       " 'Senegal': 0.9136532982686829,\n",
       " 'Cuba': 0.7923655292076345,\n",
       " 'Poland': 0.6768269594850436,\n",
       " 'St. Kitts and Nevis': 0.9018895348837209,\n",
       " 'Ivory Coast': 0.8072234762979684,\n",
       " 'Malawi': 0.7640031855588001,\n",
       " 'Mauritius': 0.9363776295536173,\n",
       " 'Yugoslavia': 0.8013118916631401,\n",
       " 'Dominican Republic': 0.7984198163570361,\n",
       " 'Seychelles': 0.9780775716694773,\n",
       " 'United States': 0.2732065524383355,\n",
       " 'Hungary': 0.6839808851028465,\n",
       " 'Lebanon': 0.8546452531002237,\n",
       " 'Fiji': 0.8496512529062258,\n",
       " 'Namibia': 0.9278290993071594,\n",
       " 'Singapore': 0.8803816616243891,\n",
       " 'Montenegro': 0.6412429378531074,\n",
       " 'Malta': 0.8265881775815551,\n",
       " 'Honduras': 0.8115248595797795,\n",
       " 'Eritrea': 0.926950354609929,\n",
       " 'Morocco': 0.8944658944658944,\n",
       " 'Turkey': 0.6966571155682904,\n",
       " 'Costa Rica': 0.8195442414288647,\n",
       " 'Nigeria': 0.9062362758014932,\n",
       " 'Liechtenstein': 0.6410118406889128,\n",
       " 'Tunisia': 0.9073649071562696,\n",
       " 'Chad': 0.8905009581166164,\n",
       " 'Bulgaria': 0.6846679081315953,\n",
       " 'Kyrgyzstan': 0.8419452887537994,\n",
       " 'Andorra': 0.6426735218508998,\n",
       " 'Cyprus': 0.8372245254200306,\n",
       " 'Czech Republic': 0.624,\n",
       " 'Burma': 0.8163469224620303,\n",
       " 'Thailand': 0.8480599308490203,\n",
       " 'Japan': 0.5832987981765437,\n",
       " 'Nicaragua': 0.8196957236842105,\n",
       " 'Italy': 0.5239662620859905,\n",
       " 'Turkmenistan': 0.9121212121212121,\n",
       " 'Ghana': 0.8999353029976278,\n",
       " 'Palau': 0.3172103487064117,\n",
       " 'Grenada': 0.8762816131237184,\n",
       " 'Tuvalu': 0.84992784992785,\n",
       " 'Mexico': 0.8650075414781297,\n",
       " 'Slovakia': 0.6317088217149908,\n",
       " 'Haiti': 0.8473401877514528,\n",
       " 'Kenya': 0.9064478311840563,\n",
       " 'Chile': 0.8151686488594267,\n",
       " 'Lithuania': 0.6150770988006853,\n",
       " 'Burkina Faso': 0.9032184950135993,\n",
       " 'Afghanistan': 0.8394607843137255,\n",
       " 'Democratic Republic of the Congo': 0.8418914998549464,\n",
       " 'China': 0.8689747003994673,\n",
       " 'Armenia': 0.7574074074074074,\n",
       " 'Solomon Islands': 0.8981891348088531,\n",
       " 'Iceland': 0.5947050807864512,\n",
       " 'Malaysia': 0.8951529020178906,\n",
       " 'Mauritania': 0.9128689492325855,\n",
       " 'Cameroon': 0.8298300536672629,\n",
       " 'Nauru': 0.5925925925925926,\n",
       " 'Trinidad and Tobago': 0.9235061613578237,\n",
       " 'Ireland': 0.628594905505341,\n",
       " 'Kiribati': 0.9181818181818182,\n",
       " 'Madagascar': 0.9018318459370597,\n",
       " 'Niger': 0.90392487358536,\n",
       " 'Denmark': 0.5715896279594137,\n",
       " 'Mali': 0.9119593998234775,\n",
       " 'Bahamas': 0.891470749043193,\n",
       " 'Algeria': 0.8971377459749553,\n",
       " 'Samoa': 0.8490387645761109,\n",
       " 'Estonia': 0.6142278773857721,\n",
       " 'Czechoslovakia': 0.6945652173913044,\n",
       " 'Sri Lanka': 0.8923109155667295,\n",
       " 'Macedonia': 0.6346153846153846,\n",
       " 'St. Vincent and the Grenadines': 0.902946273830156,\n",
       " 'Zimbabwe': 0.9380804953560371,\n",
       " 'Djibouti': 0.9560240963855422,\n",
       " 'India': 0.7914468726450641,\n",
       " 'Georgia': 0.5960912052117264,\n",
       " 'Saudi Arabia': 0.8521293375394322,\n",
       " 'Israel': 0.33716160787530763,\n",
       " 'Central African Republic': 0.8395236745109158,\n",
       " 'Switzerland': 0.6527363184079602,\n",
       " 'Panama': 0.8412317536492702,\n",
       " 'Uganda': 0.8979146459747818,\n",
       " 'Iran': 0.8556902620258114,\n",
       " 'Sierra Leone': 0.9100985221674877,\n",
       " 'Egypt': 0.8501801630950123,\n",
       " 'Lesotho': 0.9057203389830508,\n",
       " 'Venezuela': 0.8415879017013232,\n",
       " 'Jordan': 0.8916172734970365,\n",
       " 'Cambodia': 0.8906420021762785,\n",
       " 'Vietnam': 0.9075579644685335,\n",
       " 'Marshall Islands': 0.48680904522613067,\n",
       " 'Korea, North': 0.8451612903225807,\n",
       " 'United Arab Emirates': 0.9407927747114903,\n",
       " 'Sudan': 0.8905950095969289,\n",
       " 'Sweden': 0.6157904654230262,\n",
       " 'St. Lucia': 0.9166666666666666,\n",
       " 'Peru': 0.8372403278063656,\n",
       " 'Norway': 0.5824713184126387,\n",
       " 'Germany': 0.7818627450980392,\n",
       " 'Yemen Arab Republic': 0.8614975450081833,\n",
       " 'Gabon': 0.8871604938271604,\n",
       " 'Comoros': 0.9446435682994823,\n",
       " 'Oman': 0.9287871162556618,\n",
       " 'Jamaica': 0.8984214138641043,\n",
       " 'Equatorial Guinea': 0.8776946766388033,\n",
       " 'Monaco': 0.6408730158730159,\n",
       " 'Croatia': 0.6384039900249376,\n",
       " 'Romania': 0.7413829120534782,\n",
       " 'Ethiopia': 0.8518229674400468,\n",
       " 'Moldova': 0.6203759854457247,\n",
       " 'Laos': 0.860601946141661,\n",
       " 'United Kingdom': 0.42017759304742114,\n",
       " 'Guatemala': 0.7875668999588308,\n",
       " 'Philippines': 0.8621673003802282,\n",
       " 'Spain': 0.6250258531540848,\n",
       " 'Papua New Guinea': 0.8751486325802615,\n",
       " 'Bolivia': 0.8429685937187438,\n",
       " 'Somalia': 0.9015260581629715,\n",
       " 'Guinea': 0.9073532718686755,\n",
       " 'Gambia': 0.9305270362765229,\n",
       " 'Russia': 0.6952345074401959,\n",
       " 'Liberia': 0.8278669458013491}"
      ]
     },
     "execution_count": 4,
     "metadata": {},
     "output_type": "execute_result"
    }
   ],
   "source": [
    "yes_vote_ratio"
   ]
  },
  {
   "cell_type": "code",
   "execution_count": 5,
   "metadata": {},
   "outputs": [],
   "source": [
    "countries_df = pd.DataFrame.from_dict(yes_vote_ratio, orient = 'index', columns=['yes_vote_ratio'])\n",
    "code_df = pd.read_csv('https://raw.githubusercontent.com/plotly/datasets/master/2014_world_gdp_with_codes.csv')\n",
    "\n",
    "def return_country_code(con):\n",
    "    if con in code_df['COUNTRY'].values:\n",
    "        return code_df[code_df['COUNTRY'] == con]['CODE'].values[0]\n",
    "\n",
    "countries_df['Country'] = countries_df.index\n",
    "countries_df['Code'] = countries_df['Country'].apply(return_country_code)\n",
    "countries = countries_df.dropna()"
   ]
  },
  {
   "cell_type": "code",
   "execution_count": 6,
   "metadata": {},
   "outputs": [
    {
     "data": {
      "application/vnd.plotly.v1+json": {
       "config": {
        "linkText": "Export to plot.ly",
        "plotlyServerURL": "https://plot.ly",
        "showLink": false
       },
       "data": [
        {
         "colorbar": {
          "title": {
           "text": "yes_vote_ratio"
          }
         },
         "colorscale": [
          [
           0.0,
           "rgb(255,255,204)"
          ],
          [
           0.125,
           "rgb(255,237,160)"
          ],
          [
           0.25,
           "rgb(254,217,118)"
          ],
          [
           0.375,
           "rgb(254,178,76)"
          ],
          [
           0.5,
           "rgb(253,141,60)"
          ],
          [
           0.625,
           "rgb(252,78,42)"
          ],
          [
           0.75,
           "rgb(227,26,28)"
          ],
          [
           0.875,
           "rgb(189,0,38)"
          ],
          [
           1.0,
           "rgb(128,0,38)"
          ]
         ],
         "locations": [
          "UKR",
          "NZL",
          "AUT",
          "ECU",
          "KAZ",
          "NLD",
          "MNG",
          "BHR",
          "PRY",
          "ZAF",
          "BGD",
          "BRA",
          "DMA",
          "SMR",
          "MDV",
          "SLV",
          "LBY",
          "BTN",
          "CAN",
          "SSD",
          "GNB",
          "SVN",
          "LVA",
          "TJK",
          "BLR",
          "BWA",
          "AZE",
          "QAT",
          "AUS",
          "TON",
          "STP",
          "AGO",
          "BIH",
          "FRA",
          "BRB",
          "PRT",
          "SYR",
          "BEN",
          "ALB",
          "SWZ",
          "IRQ",
          "IDN",
          "NPL",
          "KOR",
          "GRC",
          "ZMB",
          "VUT",
          "YEM",
          "GUY",
          "LUX",
          "BRN",
          "ARG",
          "TGO",
          "TWN",
          "PAK",
          "KWT",
          "BDI",
          "SUR",
          "MOZ",
          "FIN",
          "BLZ",
          "UZB",
          "BEL",
          "COL",
          "URY",
          "RWA",
          "TZA",
          "SEN",
          "CUB",
          "POL",
          "MWI",
          "MUS",
          "DOM",
          "SYC",
          "USA",
          "HUN",
          "LBN",
          "FJI",
          "NAM",
          "SGP",
          "MNE",
          "MLT",
          "HND",
          "ERI",
          "MAR",
          "TUR",
          "CRI",
          "NGA",
          "LIE",
          "TUN",
          "TCD",
          "BGR",
          "KGZ",
          "AND",
          "CYP",
          "CZE",
          "MMR",
          "THA",
          "JPN",
          "NIC",
          "ITA",
          "TKM",
          "GHA",
          "PLW",
          "GRD",
          "TUV",
          "MEX",
          "SVK",
          "HTI",
          "KEN",
          "CHL",
          "LTU",
          "BFA",
          "AFG",
          "CHN",
          "ARM",
          "SLB",
          "ISL",
          "MYS",
          "MRT",
          "CMR",
          "TTO",
          "IRL",
          "KIR",
          "MDG",
          "NER",
          "DNK",
          "MLI",
          "DZA",
          "WSM",
          "EST",
          "LKA",
          "MKD",
          "ZWE",
          "DJI",
          "IND",
          "GEO",
          "SAU",
          "ISR",
          "CAF",
          "CHE",
          "PAN",
          "UGA",
          "IRN",
          "SLE",
          "EGY",
          "LSO",
          "VEN",
          "JOR",
          "KHM",
          "VNM",
          "MHL",
          "PRK",
          "ARE",
          "SDN",
          "SWE",
          "PER",
          "NOR",
          "DEU",
          "GAB",
          "COM",
          "OMN",
          "JAM",
          "GNQ",
          "MCO",
          "HRV",
          "ROU",
          "ETH",
          "MDA",
          "LAO",
          "GBR",
          "GTM",
          "PHL",
          "ESP",
          "PNG",
          "BOL",
          "SOM",
          "GIN",
          "RUS",
          "LBR"
         ],
         "marker": {
          "line": {
           "color": "darkgray",
           "width": 0.7
          }
         },
         "text": [
          "Ukraine",
          "New Zealand",
          "Austria",
          "Ecuador",
          "Kazakhstan",
          "Netherlands",
          "Mongolia",
          "Bahrain",
          "Paraguay",
          "South Africa",
          "Bangladesh",
          "Brazil",
          "Dominica",
          "San Marino",
          "Maldives",
          "El Salvador",
          "Libya",
          "Bhutan",
          "Canada",
          "South Sudan",
          "Guinea-Bissau",
          "Slovenia",
          "Latvia",
          "Tajikistan",
          "Belarus",
          "Botswana",
          "Azerbaijan",
          "Qatar",
          "Australia",
          "Tonga",
          "Sao Tome and Principe",
          "Angola",
          "Bosnia and Herzegovina",
          "France",
          "Barbados",
          "Portugal",
          "Syria",
          "Benin",
          "Albania",
          "Swaziland",
          "Iraq",
          "Indonesia",
          "Nepal",
          "Korea, South",
          "Greece",
          "Zambia",
          "Vanuatu",
          "Yemen",
          "Guyana",
          "Luxembourg",
          "Brunei",
          "Argentina",
          "Togo",
          "Taiwan",
          "Pakistan",
          "Kuwait",
          "Burundi",
          "Suriname",
          "Mozambique",
          "Finland",
          "Belize",
          "Uzbekistan",
          "Belgium",
          "Colombia",
          "Uruguay",
          "Rwanda",
          "Tanzania",
          "Senegal",
          "Cuba",
          "Poland",
          "Malawi",
          "Mauritius",
          "Dominican Republic",
          "Seychelles",
          "United States",
          "Hungary",
          "Lebanon",
          "Fiji",
          "Namibia",
          "Singapore",
          "Montenegro",
          "Malta",
          "Honduras",
          "Eritrea",
          "Morocco",
          "Turkey",
          "Costa Rica",
          "Nigeria",
          "Liechtenstein",
          "Tunisia",
          "Chad",
          "Bulgaria",
          "Kyrgyzstan",
          "Andorra",
          "Cyprus",
          "Czech Republic",
          "Burma",
          "Thailand",
          "Japan",
          "Nicaragua",
          "Italy",
          "Turkmenistan",
          "Ghana",
          "Palau",
          "Grenada",
          "Tuvalu",
          "Mexico",
          "Slovakia",
          "Haiti",
          "Kenya",
          "Chile",
          "Lithuania",
          "Burkina Faso",
          "Afghanistan",
          "China",
          "Armenia",
          "Solomon Islands",
          "Iceland",
          "Malaysia",
          "Mauritania",
          "Cameroon",
          "Trinidad and Tobago",
          "Ireland",
          "Kiribati",
          "Madagascar",
          "Niger",
          "Denmark",
          "Mali",
          "Algeria",
          "Samoa",
          "Estonia",
          "Sri Lanka",
          "Macedonia",
          "Zimbabwe",
          "Djibouti",
          "India",
          "Georgia",
          "Saudi Arabia",
          "Israel",
          "Central African Republic",
          "Switzerland",
          "Panama",
          "Uganda",
          "Iran",
          "Sierra Leone",
          "Egypt",
          "Lesotho",
          "Venezuela",
          "Jordan",
          "Cambodia",
          "Vietnam",
          "Marshall Islands",
          "Korea, North",
          "United Arab Emirates",
          "Sudan",
          "Sweden",
          "Peru",
          "Norway",
          "Germany",
          "Gabon",
          "Comoros",
          "Oman",
          "Jamaica",
          "Equatorial Guinea",
          "Monaco",
          "Croatia",
          "Romania",
          "Ethiopia",
          "Moldova",
          "Laos",
          "United Kingdom",
          "Guatemala",
          "Philippines",
          "Spain",
          "Papua New Guinea",
          "Bolivia",
          "Somalia",
          "Guinea",
          "Russia",
          "Liberia"
         ],
         "type": "choropleth",
         "z": [
          0.7045497451387578,
          0.6015051740357479,
          0.6282314320886335,
          0.8582016773941876,
          0.8236009732360098,
          0.5200075145594589,
          0.8255734726322962,
          0.9324656188605108,
          0.7838427947598253,
          0.6479536399855125,
          0.9379163335997869,
          0.8112958065734794,
          0.8766756032171582,
          0.6666666666666666,
          0.9324045407636739,
          0.8227875160324926,
          0.8862083689154568,
          0.9121405750798722,
          0.5023456558453744,
          0.6709677419354839,
          0.9556067083196317,
          0.6365809922295278,
          0.6034985422740525,
          0.8410174880763116,
          0.7421815408085431,
          0.9237702807107906,
          0.8670926517571885,
          0.9388667992047713,
          0.545779281819891,
          0.7240223463687151,
          0.9670468948035488,
          0.9213630406290957,
          0.6842513576415826,
          0.42538593481989706,
          0.9075899457861015,
          0.5349276274386406,
          0.8344813614262561,
          0.9003947062920826,
          0.7123524330549956,
          0.8822203437588053,
          0.8488033996868709,
          0.8781604618753733,
          0.8729131886477463,
          0.6404816513761468,
          0.6629707512903843,
          0.9237918215613383,
          0.8928255093002657,
          0.8969645147498931,
          0.9305164319248826,
          0.5061022120518688,
          0.9300334946036471,
          0.7758424839076108,
          0.8983677910772578,
          0.559900166389351,
          0.8500671913995008,
          0.9301411057136248,
          0.9155533148474918,
          0.9405852793378658,
          0.9422572178477691,
          0.6261298274445357,
          0.9333881578947368,
          0.7568523430592397,
          0.48785539446431936,
          0.8266409266409266,
          0.8125121053650978,
          0.9071225071225071,
          0.9098771051433774,
          0.9136532982686829,
          0.7923655292076345,
          0.6768269594850436,
          0.7640031855588001,
          0.9363776295536173,
          0.7984198163570361,
          0.9780775716694773,
          0.2732065524383355,
          0.6839808851028465,
          0.8546452531002237,
          0.8496512529062258,
          0.9278290993071594,
          0.8803816616243891,
          0.6412429378531074,
          0.8265881775815551,
          0.8115248595797795,
          0.926950354609929,
          0.8944658944658944,
          0.6966571155682904,
          0.8195442414288647,
          0.9062362758014932,
          0.6410118406889128,
          0.9073649071562696,
          0.8905009581166164,
          0.6846679081315953,
          0.8419452887537994,
          0.6426735218508998,
          0.8372245254200306,
          0.624,
          0.8163469224620303,
          0.8480599308490203,
          0.5832987981765437,
          0.8196957236842105,
          0.5239662620859905,
          0.9121212121212121,
          0.8999353029976278,
          0.3172103487064117,
          0.8762816131237184,
          0.84992784992785,
          0.8650075414781297,
          0.6317088217149908,
          0.8473401877514528,
          0.9064478311840563,
          0.8151686488594267,
          0.6150770988006853,
          0.9032184950135993,
          0.8394607843137255,
          0.8689747003994673,
          0.7574074074074074,
          0.8981891348088531,
          0.5947050807864512,
          0.8951529020178906,
          0.9128689492325855,
          0.8298300536672629,
          0.9235061613578237,
          0.628594905505341,
          0.9181818181818182,
          0.9018318459370597,
          0.90392487358536,
          0.5715896279594137,
          0.9119593998234775,
          0.8971377459749553,
          0.8490387645761109,
          0.6142278773857721,
          0.8923109155667295,
          0.6346153846153846,
          0.9380804953560371,
          0.9560240963855422,
          0.7914468726450641,
          0.5960912052117264,
          0.8521293375394322,
          0.33716160787530763,
          0.8395236745109158,
          0.6527363184079602,
          0.8412317536492702,
          0.8979146459747818,
          0.8556902620258114,
          0.9100985221674877,
          0.8501801630950123,
          0.9057203389830508,
          0.8415879017013232,
          0.8916172734970365,
          0.8906420021762785,
          0.9075579644685335,
          0.48680904522613067,
          0.8451612903225807,
          0.9407927747114903,
          0.8905950095969289,
          0.6157904654230262,
          0.8372403278063656,
          0.5824713184126387,
          0.7818627450980392,
          0.8871604938271604,
          0.9446435682994823,
          0.9287871162556618,
          0.8984214138641043,
          0.8776946766388033,
          0.6408730158730159,
          0.6384039900249376,
          0.7413829120534782,
          0.8518229674400468,
          0.6203759854457247,
          0.860601946141661,
          0.42017759304742114,
          0.7875668999588308,
          0.8621673003802282,
          0.6250258531540848,
          0.8751486325802615,
          0.8429685937187438,
          0.9015260581629715,
          0.9073532718686755,
          0.6952345074401959,
          0.8278669458013491
         ]
        }
       ],
       "layout": {
        "geo": {
         "projection": {
          "type": "equirectangular"
         },
         "showcoastlines": true,
         "showframe": false
        },
        "template": {
         "data": {
          "bar": [
           {
            "error_x": {
             "color": "#2a3f5f"
            },
            "error_y": {
             "color": "#2a3f5f"
            },
            "marker": {
             "line": {
              "color": "#E5ECF6",
              "width": 0.5
             }
            },
            "type": "bar"
           }
          ],
          "barpolar": [
           {
            "marker": {
             "line": {
              "color": "#E5ECF6",
              "width": 0.5
             }
            },
            "type": "barpolar"
           }
          ],
          "carpet": [
           {
            "aaxis": {
             "endlinecolor": "#2a3f5f",
             "gridcolor": "white",
             "linecolor": "white",
             "minorgridcolor": "white",
             "startlinecolor": "#2a3f5f"
            },
            "baxis": {
             "endlinecolor": "#2a3f5f",
             "gridcolor": "white",
             "linecolor": "white",
             "minorgridcolor": "white",
             "startlinecolor": "#2a3f5f"
            },
            "type": "carpet"
           }
          ],
          "choropleth": [
           {
            "colorbar": {
             "outlinewidth": 0,
             "ticks": ""
            },
            "type": "choropleth"
           }
          ],
          "contour": [
           {
            "colorbar": {
             "outlinewidth": 0,
             "ticks": ""
            },
            "colorscale": [
             [
              0.0,
              "#0d0887"
             ],
             [
              0.1111111111111111,
              "#46039f"
             ],
             [
              0.2222222222222222,
              "#7201a8"
             ],
             [
              0.3333333333333333,
              "#9c179e"
             ],
             [
              0.4444444444444444,
              "#bd3786"
             ],
             [
              0.5555555555555556,
              "#d8576b"
             ],
             [
              0.6666666666666666,
              "#ed7953"
             ],
             [
              0.7777777777777778,
              "#fb9f3a"
             ],
             [
              0.8888888888888888,
              "#fdca26"
             ],
             [
              1.0,
              "#f0f921"
             ]
            ],
            "type": "contour"
           }
          ],
          "contourcarpet": [
           {
            "colorbar": {
             "outlinewidth": 0,
             "ticks": ""
            },
            "type": "contourcarpet"
           }
          ],
          "heatmap": [
           {
            "colorbar": {
             "outlinewidth": 0,
             "ticks": ""
            },
            "colorscale": [
             [
              0.0,
              "#0d0887"
             ],
             [
              0.1111111111111111,
              "#46039f"
             ],
             [
              0.2222222222222222,
              "#7201a8"
             ],
             [
              0.3333333333333333,
              "#9c179e"
             ],
             [
              0.4444444444444444,
              "#bd3786"
             ],
             [
              0.5555555555555556,
              "#d8576b"
             ],
             [
              0.6666666666666666,
              "#ed7953"
             ],
             [
              0.7777777777777778,
              "#fb9f3a"
             ],
             [
              0.8888888888888888,
              "#fdca26"
             ],
             [
              1.0,
              "#f0f921"
             ]
            ],
            "type": "heatmap"
           }
          ],
          "heatmapgl": [
           {
            "colorbar": {
             "outlinewidth": 0,
             "ticks": ""
            },
            "colorscale": [
             [
              0.0,
              "#0d0887"
             ],
             [
              0.1111111111111111,
              "#46039f"
             ],
             [
              0.2222222222222222,
              "#7201a8"
             ],
             [
              0.3333333333333333,
              "#9c179e"
             ],
             [
              0.4444444444444444,
              "#bd3786"
             ],
             [
              0.5555555555555556,
              "#d8576b"
             ],
             [
              0.6666666666666666,
              "#ed7953"
             ],
             [
              0.7777777777777778,
              "#fb9f3a"
             ],
             [
              0.8888888888888888,
              "#fdca26"
             ],
             [
              1.0,
              "#f0f921"
             ]
            ],
            "type": "heatmapgl"
           }
          ],
          "histogram": [
           {
            "marker": {
             "colorbar": {
              "outlinewidth": 0,
              "ticks": ""
             }
            },
            "type": "histogram"
           }
          ],
          "histogram2d": [
           {
            "colorbar": {
             "outlinewidth": 0,
             "ticks": ""
            },
            "colorscale": [
             [
              0.0,
              "#0d0887"
             ],
             [
              0.1111111111111111,
              "#46039f"
             ],
             [
              0.2222222222222222,
              "#7201a8"
             ],
             [
              0.3333333333333333,
              "#9c179e"
             ],
             [
              0.4444444444444444,
              "#bd3786"
             ],
             [
              0.5555555555555556,
              "#d8576b"
             ],
             [
              0.6666666666666666,
              "#ed7953"
             ],
             [
              0.7777777777777778,
              "#fb9f3a"
             ],
             [
              0.8888888888888888,
              "#fdca26"
             ],
             [
              1.0,
              "#f0f921"
             ]
            ],
            "type": "histogram2d"
           }
          ],
          "histogram2dcontour": [
           {
            "colorbar": {
             "outlinewidth": 0,
             "ticks": ""
            },
            "colorscale": [
             [
              0.0,
              "#0d0887"
             ],
             [
              0.1111111111111111,
              "#46039f"
             ],
             [
              0.2222222222222222,
              "#7201a8"
             ],
             [
              0.3333333333333333,
              "#9c179e"
             ],
             [
              0.4444444444444444,
              "#bd3786"
             ],
             [
              0.5555555555555556,
              "#d8576b"
             ],
             [
              0.6666666666666666,
              "#ed7953"
             ],
             [
              0.7777777777777778,
              "#fb9f3a"
             ],
             [
              0.8888888888888888,
              "#fdca26"
             ],
             [
              1.0,
              "#f0f921"
             ]
            ],
            "type": "histogram2dcontour"
           }
          ],
          "mesh3d": [
           {
            "colorbar": {
             "outlinewidth": 0,
             "ticks": ""
            },
            "type": "mesh3d"
           }
          ],
          "parcoords": [
           {
            "line": {
             "colorbar": {
              "outlinewidth": 0,
              "ticks": ""
             }
            },
            "type": "parcoords"
           }
          ],
          "scatter": [
           {
            "marker": {
             "colorbar": {
              "outlinewidth": 0,
              "ticks": ""
             }
            },
            "type": "scatter"
           }
          ],
          "scatter3d": [
           {
            "line": {
             "colorbar": {
              "outlinewidth": 0,
              "ticks": ""
             }
            },
            "marker": {
             "colorbar": {
              "outlinewidth": 0,
              "ticks": ""
             }
            },
            "type": "scatter3d"
           }
          ],
          "scattercarpet": [
           {
            "marker": {
             "colorbar": {
              "outlinewidth": 0,
              "ticks": ""
             }
            },
            "type": "scattercarpet"
           }
          ],
          "scattergeo": [
           {
            "marker": {
             "colorbar": {
              "outlinewidth": 0,
              "ticks": ""
             }
            },
            "type": "scattergeo"
           }
          ],
          "scattergl": [
           {
            "marker": {
             "colorbar": {
              "outlinewidth": 0,
              "ticks": ""
             }
            },
            "type": "scattergl"
           }
          ],
          "scattermapbox": [
           {
            "marker": {
             "colorbar": {
              "outlinewidth": 0,
              "ticks": ""
             }
            },
            "type": "scattermapbox"
           }
          ],
          "scatterpolar": [
           {
            "marker": {
             "colorbar": {
              "outlinewidth": 0,
              "ticks": ""
             }
            },
            "type": "scatterpolar"
           }
          ],
          "scatterpolargl": [
           {
            "marker": {
             "colorbar": {
              "outlinewidth": 0,
              "ticks": ""
             }
            },
            "type": "scatterpolargl"
           }
          ],
          "scatterternary": [
           {
            "marker": {
             "colorbar": {
              "outlinewidth": 0,
              "ticks": ""
             }
            },
            "type": "scatterternary"
           }
          ],
          "surface": [
           {
            "colorbar": {
             "outlinewidth": 0,
             "ticks": ""
            },
            "colorscale": [
             [
              0.0,
              "#0d0887"
             ],
             [
              0.1111111111111111,
              "#46039f"
             ],
             [
              0.2222222222222222,
              "#7201a8"
             ],
             [
              0.3333333333333333,
              "#9c179e"
             ],
             [
              0.4444444444444444,
              "#bd3786"
             ],
             [
              0.5555555555555556,
              "#d8576b"
             ],
             [
              0.6666666666666666,
              "#ed7953"
             ],
             [
              0.7777777777777778,
              "#fb9f3a"
             ],
             [
              0.8888888888888888,
              "#fdca26"
             ],
             [
              1.0,
              "#f0f921"
             ]
            ],
            "type": "surface"
           }
          ],
          "table": [
           {
            "cells": {
             "fill": {
              "color": "#EBF0F8"
             },
             "line": {
              "color": "white"
             }
            },
            "header": {
             "fill": {
              "color": "#C8D4E3"
             },
             "line": {
              "color": "white"
             }
            },
            "type": "table"
           }
          ]
         },
         "layout": {
          "annotationdefaults": {
           "arrowcolor": "#2a3f5f",
           "arrowhead": 0,
           "arrowwidth": 1
          },
          "colorscale": {
           "diverging": [
            [
             0,
             "#8e0152"
            ],
            [
             0.1,
             "#c51b7d"
            ],
            [
             0.2,
             "#de77ae"
            ],
            [
             0.3,
             "#f1b6da"
            ],
            [
             0.4,
             "#fde0ef"
            ],
            [
             0.5,
             "#f7f7f7"
            ],
            [
             0.6,
             "#e6f5d0"
            ],
            [
             0.7,
             "#b8e186"
            ],
            [
             0.8,
             "#7fbc41"
            ],
            [
             0.9,
             "#4d9221"
            ],
            [
             1,
             "#276419"
            ]
           ],
           "sequential": [
            [
             0.0,
             "#0d0887"
            ],
            [
             0.1111111111111111,
             "#46039f"
            ],
            [
             0.2222222222222222,
             "#7201a8"
            ],
            [
             0.3333333333333333,
             "#9c179e"
            ],
            [
             0.4444444444444444,
             "#bd3786"
            ],
            [
             0.5555555555555556,
             "#d8576b"
            ],
            [
             0.6666666666666666,
             "#ed7953"
            ],
            [
             0.7777777777777778,
             "#fb9f3a"
            ],
            [
             0.8888888888888888,
             "#fdca26"
            ],
            [
             1.0,
             "#f0f921"
            ]
           ],
           "sequentialminus": [
            [
             0.0,
             "#0d0887"
            ],
            [
             0.1111111111111111,
             "#46039f"
            ],
            [
             0.2222222222222222,
             "#7201a8"
            ],
            [
             0.3333333333333333,
             "#9c179e"
            ],
            [
             0.4444444444444444,
             "#bd3786"
            ],
            [
             0.5555555555555556,
             "#d8576b"
            ],
            [
             0.6666666666666666,
             "#ed7953"
            ],
            [
             0.7777777777777778,
             "#fb9f3a"
            ],
            [
             0.8888888888888888,
             "#fdca26"
            ],
            [
             1.0,
             "#f0f921"
            ]
           ]
          },
          "colorway": [
           "#636efa",
           "#EF553B",
           "#00cc96",
           "#ab63fa",
           "#FFA15A",
           "#19d3f3",
           "#FF6692",
           "#B6E880",
           "#FF97FF",
           "#FECB52"
          ],
          "font": {
           "color": "#2a3f5f"
          },
          "geo": {
           "bgcolor": "white",
           "lakecolor": "white",
           "landcolor": "#E5ECF6",
           "showlakes": true,
           "showland": true,
           "subunitcolor": "white"
          },
          "hoverlabel": {
           "align": "left"
          },
          "hovermode": "closest",
          "mapbox": {
           "style": "light"
          },
          "paper_bgcolor": "white",
          "plot_bgcolor": "#E5ECF6",
          "polar": {
           "angularaxis": {
            "gridcolor": "white",
            "linecolor": "white",
            "ticks": ""
           },
           "bgcolor": "#E5ECF6",
           "radialaxis": {
            "gridcolor": "white",
            "linecolor": "white",
            "ticks": ""
           }
          },
          "scene": {
           "xaxis": {
            "backgroundcolor": "#E5ECF6",
            "gridcolor": "white",
            "gridwidth": 2,
            "linecolor": "white",
            "showbackground": true,
            "ticks": "",
            "zerolinecolor": "white"
           },
           "yaxis": {
            "backgroundcolor": "#E5ECF6",
            "gridcolor": "white",
            "gridwidth": 2,
            "linecolor": "white",
            "showbackground": true,
            "ticks": "",
            "zerolinecolor": "white"
           },
           "zaxis": {
            "backgroundcolor": "#E5ECF6",
            "gridcolor": "white",
            "gridwidth": 2,
            "linecolor": "white",
            "showbackground": true,
            "ticks": "",
            "zerolinecolor": "white"
           }
          },
          "shapedefaults": {
           "line": {
            "color": "#2a3f5f"
           }
          },
          "ternary": {
           "aaxis": {
            "gridcolor": "white",
            "linecolor": "white",
            "ticks": ""
           },
           "baxis": {
            "gridcolor": "white",
            "linecolor": "white",
            "ticks": ""
           },
           "bgcolor": "#E5ECF6",
           "caxis": {
            "gridcolor": "white",
            "linecolor": "white",
            "ticks": ""
           }
          },
          "title": {
           "x": 0.05
          },
          "xaxis": {
           "automargin": true,
           "gridcolor": "white",
           "linecolor": "white",
           "ticks": "",
           "zerolinecolor": "white",
           "zerolinewidth": 2
          },
          "yaxis": {
           "automargin": true,
           "gridcolor": "white",
           "linecolor": "white",
           "ticks": "",
           "zerolinecolor": "white",
           "zerolinewidth": 2
          }
         }
        },
        "title": {
         "text": "Yes vote ratio per States"
        }
       }
      },
      "text/html": [
       "<div>\n",
       "        \n",
       "        \n",
       "            <div id=\"3fa5687f-b2ad-4e44-ada6-3145eeba31ff\" class=\"plotly-graph-div\" style=\"height:525px; width:100%;\"></div>\n",
       "            <script type=\"text/javascript\">\n",
       "                require([\"plotly\"], function(Plotly) {\n",
       "                    window.PLOTLYENV=window.PLOTLYENV || {};\n",
       "                    \n",
       "                if (document.getElementById(\"3fa5687f-b2ad-4e44-ada6-3145eeba31ff\")) {\n",
       "                    Plotly.newPlot(\n",
       "                        '3fa5687f-b2ad-4e44-ada6-3145eeba31ff',\n",
       "                        [{\"colorbar\": {\"title\": {\"text\": \"yes_vote_ratio\"}}, \"colorscale\": [[0.0, \"rgb(255,255,204)\"], [0.125, \"rgb(255,237,160)\"], [0.25, \"rgb(254,217,118)\"], [0.375, \"rgb(254,178,76)\"], [0.5, \"rgb(253,141,60)\"], [0.625, \"rgb(252,78,42)\"], [0.75, \"rgb(227,26,28)\"], [0.875, \"rgb(189,0,38)\"], [1.0, \"rgb(128,0,38)\"]], \"locations\": [\"UKR\", \"NZL\", \"AUT\", \"ECU\", \"KAZ\", \"NLD\", \"MNG\", \"BHR\", \"PRY\", \"ZAF\", \"BGD\", \"BRA\", \"DMA\", \"SMR\", \"MDV\", \"SLV\", \"LBY\", \"BTN\", \"CAN\", \"SSD\", \"GNB\", \"SVN\", \"LVA\", \"TJK\", \"BLR\", \"BWA\", \"AZE\", \"QAT\", \"AUS\", \"TON\", \"STP\", \"AGO\", \"BIH\", \"FRA\", \"BRB\", \"PRT\", \"SYR\", \"BEN\", \"ALB\", \"SWZ\", \"IRQ\", \"IDN\", \"NPL\", \"KOR\", \"GRC\", \"ZMB\", \"VUT\", \"YEM\", \"GUY\", \"LUX\", \"BRN\", \"ARG\", \"TGO\", \"TWN\", \"PAK\", \"KWT\", \"BDI\", \"SUR\", \"MOZ\", \"FIN\", \"BLZ\", \"UZB\", \"BEL\", \"COL\", \"URY\", \"RWA\", \"TZA\", \"SEN\", \"CUB\", \"POL\", \"MWI\", \"MUS\", \"DOM\", \"SYC\", \"USA\", \"HUN\", \"LBN\", \"FJI\", \"NAM\", \"SGP\", \"MNE\", \"MLT\", \"HND\", \"ERI\", \"MAR\", \"TUR\", \"CRI\", \"NGA\", \"LIE\", \"TUN\", \"TCD\", \"BGR\", \"KGZ\", \"AND\", \"CYP\", \"CZE\", \"MMR\", \"THA\", \"JPN\", \"NIC\", \"ITA\", \"TKM\", \"GHA\", \"PLW\", \"GRD\", \"TUV\", \"MEX\", \"SVK\", \"HTI\", \"KEN\", \"CHL\", \"LTU\", \"BFA\", \"AFG\", \"CHN\", \"ARM\", \"SLB\", \"ISL\", \"MYS\", \"MRT\", \"CMR\", \"TTO\", \"IRL\", \"KIR\", \"MDG\", \"NER\", \"DNK\", \"MLI\", \"DZA\", \"WSM\", \"EST\", \"LKA\", \"MKD\", \"ZWE\", \"DJI\", \"IND\", \"GEO\", \"SAU\", \"ISR\", \"CAF\", \"CHE\", \"PAN\", \"UGA\", \"IRN\", \"SLE\", \"EGY\", \"LSO\", \"VEN\", \"JOR\", \"KHM\", \"VNM\", \"MHL\", \"PRK\", \"ARE\", \"SDN\", \"SWE\", \"PER\", \"NOR\", \"DEU\", \"GAB\", \"COM\", \"OMN\", \"JAM\", \"GNQ\", \"MCO\", \"HRV\", \"ROU\", \"ETH\", \"MDA\", \"LAO\", \"GBR\", \"GTM\", \"PHL\", \"ESP\", \"PNG\", \"BOL\", \"SOM\", \"GIN\", \"RUS\", \"LBR\"], \"marker\": {\"line\": {\"color\": \"darkgray\", \"width\": 0.7}}, \"text\": [\"Ukraine\", \"New Zealand\", \"Austria\", \"Ecuador\", \"Kazakhstan\", \"Netherlands\", \"Mongolia\", \"Bahrain\", \"Paraguay\", \"South Africa\", \"Bangladesh\", \"Brazil\", \"Dominica\", \"San Marino\", \"Maldives\", \"El Salvador\", \"Libya\", \"Bhutan\", \"Canada\", \"South Sudan\", \"Guinea-Bissau\", \"Slovenia\", \"Latvia\", \"Tajikistan\", \"Belarus\", \"Botswana\", \"Azerbaijan\", \"Qatar\", \"Australia\", \"Tonga\", \"Sao Tome and Principe\", \"Angola\", \"Bosnia and Herzegovina\", \"France\", \"Barbados\", \"Portugal\", \"Syria\", \"Benin\", \"Albania\", \"Swaziland\", \"Iraq\", \"Indonesia\", \"Nepal\", \"Korea, South\", \"Greece\", \"Zambia\", \"Vanuatu\", \"Yemen\", \"Guyana\", \"Luxembourg\", \"Brunei\", \"Argentina\", \"Togo\", \"Taiwan\", \"Pakistan\", \"Kuwait\", \"Burundi\", \"Suriname\", \"Mozambique\", \"Finland\", \"Belize\", \"Uzbekistan\", \"Belgium\", \"Colombia\", \"Uruguay\", \"Rwanda\", \"Tanzania\", \"Senegal\", \"Cuba\", \"Poland\", \"Malawi\", \"Mauritius\", \"Dominican Republic\", \"Seychelles\", \"United States\", \"Hungary\", \"Lebanon\", \"Fiji\", \"Namibia\", \"Singapore\", \"Montenegro\", \"Malta\", \"Honduras\", \"Eritrea\", \"Morocco\", \"Turkey\", \"Costa Rica\", \"Nigeria\", \"Liechtenstein\", \"Tunisia\", \"Chad\", \"Bulgaria\", \"Kyrgyzstan\", \"Andorra\", \"Cyprus\", \"Czech Republic\", \"Burma\", \"Thailand\", \"Japan\", \"Nicaragua\", \"Italy\", \"Turkmenistan\", \"Ghana\", \"Palau\", \"Grenada\", \"Tuvalu\", \"Mexico\", \"Slovakia\", \"Haiti\", \"Kenya\", \"Chile\", \"Lithuania\", \"Burkina Faso\", \"Afghanistan\", \"China\", \"Armenia\", \"Solomon Islands\", \"Iceland\", \"Malaysia\", \"Mauritania\", \"Cameroon\", \"Trinidad and Tobago\", \"Ireland\", \"Kiribati\", \"Madagascar\", \"Niger\", \"Denmark\", \"Mali\", \"Algeria\", \"Samoa\", \"Estonia\", \"Sri Lanka\", \"Macedonia\", \"Zimbabwe\", \"Djibouti\", \"India\", \"Georgia\", \"Saudi Arabia\", \"Israel\", \"Central African Republic\", \"Switzerland\", \"Panama\", \"Uganda\", \"Iran\", \"Sierra Leone\", \"Egypt\", \"Lesotho\", \"Venezuela\", \"Jordan\", \"Cambodia\", \"Vietnam\", \"Marshall Islands\", \"Korea, North\", \"United Arab Emirates\", \"Sudan\", \"Sweden\", \"Peru\", \"Norway\", \"Germany\", \"Gabon\", \"Comoros\", \"Oman\", \"Jamaica\", \"Equatorial Guinea\", \"Monaco\", \"Croatia\", \"Romania\", \"Ethiopia\", \"Moldova\", \"Laos\", \"United Kingdom\", \"Guatemala\", \"Philippines\", \"Spain\", \"Papua New Guinea\", \"Bolivia\", \"Somalia\", \"Guinea\", \"Russia\", \"Liberia\"], \"type\": \"choropleth\", \"z\": [0.7045497451387578, 0.6015051740357479, 0.6282314320886335, 0.8582016773941876, 0.8236009732360098, 0.5200075145594589, 0.8255734726322962, 0.9324656188605108, 0.7838427947598253, 0.6479536399855125, 0.9379163335997869, 0.8112958065734794, 0.8766756032171582, 0.6666666666666666, 0.9324045407636739, 0.8227875160324926, 0.8862083689154568, 0.9121405750798722, 0.5023456558453744, 0.6709677419354839, 0.9556067083196317, 0.6365809922295278, 0.6034985422740525, 0.8410174880763116, 0.7421815408085431, 0.9237702807107906, 0.8670926517571885, 0.9388667992047713, 0.545779281819891, 0.7240223463687151, 0.9670468948035488, 0.9213630406290957, 0.6842513576415826, 0.42538593481989706, 0.9075899457861015, 0.5349276274386406, 0.8344813614262561, 0.9003947062920826, 0.7123524330549956, 0.8822203437588053, 0.8488033996868709, 0.8781604618753733, 0.8729131886477463, 0.6404816513761468, 0.6629707512903843, 0.9237918215613383, 0.8928255093002657, 0.8969645147498931, 0.9305164319248826, 0.5061022120518688, 0.9300334946036471, 0.7758424839076108, 0.8983677910772578, 0.559900166389351, 0.8500671913995008, 0.9301411057136248, 0.9155533148474918, 0.9405852793378658, 0.9422572178477691, 0.6261298274445357, 0.9333881578947368, 0.7568523430592397, 0.48785539446431936, 0.8266409266409266, 0.8125121053650978, 0.9071225071225071, 0.9098771051433774, 0.9136532982686829, 0.7923655292076345, 0.6768269594850436, 0.7640031855588001, 0.9363776295536173, 0.7984198163570361, 0.9780775716694773, 0.2732065524383355, 0.6839808851028465, 0.8546452531002237, 0.8496512529062258, 0.9278290993071594, 0.8803816616243891, 0.6412429378531074, 0.8265881775815551, 0.8115248595797795, 0.926950354609929, 0.8944658944658944, 0.6966571155682904, 0.8195442414288647, 0.9062362758014932, 0.6410118406889128, 0.9073649071562696, 0.8905009581166164, 0.6846679081315953, 0.8419452887537994, 0.6426735218508998, 0.8372245254200306, 0.624, 0.8163469224620303, 0.8480599308490203, 0.5832987981765437, 0.8196957236842105, 0.5239662620859905, 0.9121212121212121, 0.8999353029976278, 0.3172103487064117, 0.8762816131237184, 0.84992784992785, 0.8650075414781297, 0.6317088217149908, 0.8473401877514528, 0.9064478311840563, 0.8151686488594267, 0.6150770988006853, 0.9032184950135993, 0.8394607843137255, 0.8689747003994673, 0.7574074074074074, 0.8981891348088531, 0.5947050807864512, 0.8951529020178906, 0.9128689492325855, 0.8298300536672629, 0.9235061613578237, 0.628594905505341, 0.9181818181818182, 0.9018318459370597, 0.90392487358536, 0.5715896279594137, 0.9119593998234775, 0.8971377459749553, 0.8490387645761109, 0.6142278773857721, 0.8923109155667295, 0.6346153846153846, 0.9380804953560371, 0.9560240963855422, 0.7914468726450641, 0.5960912052117264, 0.8521293375394322, 0.33716160787530763, 0.8395236745109158, 0.6527363184079602, 0.8412317536492702, 0.8979146459747818, 0.8556902620258114, 0.9100985221674877, 0.8501801630950123, 0.9057203389830508, 0.8415879017013232, 0.8916172734970365, 0.8906420021762785, 0.9075579644685335, 0.48680904522613067, 0.8451612903225807, 0.9407927747114903, 0.8905950095969289, 0.6157904654230262, 0.8372403278063656, 0.5824713184126387, 0.7818627450980392, 0.8871604938271604, 0.9446435682994823, 0.9287871162556618, 0.8984214138641043, 0.8776946766388033, 0.6408730158730159, 0.6384039900249376, 0.7413829120534782, 0.8518229674400468, 0.6203759854457247, 0.860601946141661, 0.42017759304742114, 0.7875668999588308, 0.8621673003802282, 0.6250258531540848, 0.8751486325802615, 0.8429685937187438, 0.9015260581629715, 0.9073532718686755, 0.6952345074401959, 0.8278669458013491]}],\n",
       "                        {\"geo\": {\"projection\": {\"type\": \"equirectangular\"}, \"showcoastlines\": true, \"showframe\": false}, \"template\": {\"data\": {\"bar\": [{\"error_x\": {\"color\": \"#2a3f5f\"}, \"error_y\": {\"color\": \"#2a3f5f\"}, \"marker\": {\"line\": {\"color\": \"#E5ECF6\", \"width\": 0.5}}, \"type\": \"bar\"}], \"barpolar\": [{\"marker\": {\"line\": {\"color\": \"#E5ECF6\", \"width\": 0.5}}, \"type\": \"barpolar\"}], \"carpet\": [{\"aaxis\": {\"endlinecolor\": \"#2a3f5f\", \"gridcolor\": \"white\", \"linecolor\": \"white\", \"minorgridcolor\": \"white\", \"startlinecolor\": \"#2a3f5f\"}, \"baxis\": {\"endlinecolor\": \"#2a3f5f\", \"gridcolor\": \"white\", \"linecolor\": \"white\", \"minorgridcolor\": \"white\", \"startlinecolor\": \"#2a3f5f\"}, \"type\": \"carpet\"}], \"choropleth\": [{\"colorbar\": {\"outlinewidth\": 0, \"ticks\": \"\"}, \"type\": \"choropleth\"}], \"contour\": [{\"colorbar\": {\"outlinewidth\": 0, \"ticks\": \"\"}, \"colorscale\": [[0.0, \"#0d0887\"], [0.1111111111111111, \"#46039f\"], [0.2222222222222222, \"#7201a8\"], [0.3333333333333333, \"#9c179e\"], [0.4444444444444444, \"#bd3786\"], [0.5555555555555556, \"#d8576b\"], [0.6666666666666666, \"#ed7953\"], [0.7777777777777778, \"#fb9f3a\"], [0.8888888888888888, \"#fdca26\"], [1.0, \"#f0f921\"]], \"type\": \"contour\"}], \"contourcarpet\": [{\"colorbar\": {\"outlinewidth\": 0, \"ticks\": \"\"}, \"type\": \"contourcarpet\"}], \"heatmap\": [{\"colorbar\": {\"outlinewidth\": 0, \"ticks\": \"\"}, \"colorscale\": [[0.0, \"#0d0887\"], [0.1111111111111111, \"#46039f\"], [0.2222222222222222, \"#7201a8\"], [0.3333333333333333, \"#9c179e\"], [0.4444444444444444, \"#bd3786\"], [0.5555555555555556, \"#d8576b\"], [0.6666666666666666, \"#ed7953\"], [0.7777777777777778, \"#fb9f3a\"], [0.8888888888888888, \"#fdca26\"], [1.0, \"#f0f921\"]], \"type\": \"heatmap\"}], \"heatmapgl\": [{\"colorbar\": {\"outlinewidth\": 0, \"ticks\": \"\"}, \"colorscale\": [[0.0, \"#0d0887\"], [0.1111111111111111, \"#46039f\"], [0.2222222222222222, \"#7201a8\"], [0.3333333333333333, \"#9c179e\"], [0.4444444444444444, \"#bd3786\"], [0.5555555555555556, \"#d8576b\"], [0.6666666666666666, \"#ed7953\"], [0.7777777777777778, \"#fb9f3a\"], [0.8888888888888888, \"#fdca26\"], [1.0, \"#f0f921\"]], \"type\": \"heatmapgl\"}], \"histogram\": [{\"marker\": {\"colorbar\": {\"outlinewidth\": 0, \"ticks\": \"\"}}, \"type\": \"histogram\"}], \"histogram2d\": [{\"colorbar\": {\"outlinewidth\": 0, \"ticks\": \"\"}, \"colorscale\": [[0.0, \"#0d0887\"], [0.1111111111111111, \"#46039f\"], [0.2222222222222222, \"#7201a8\"], [0.3333333333333333, \"#9c179e\"], [0.4444444444444444, \"#bd3786\"], [0.5555555555555556, \"#d8576b\"], [0.6666666666666666, \"#ed7953\"], [0.7777777777777778, \"#fb9f3a\"], [0.8888888888888888, \"#fdca26\"], [1.0, \"#f0f921\"]], \"type\": \"histogram2d\"}], \"histogram2dcontour\": [{\"colorbar\": {\"outlinewidth\": 0, \"ticks\": \"\"}, \"colorscale\": [[0.0, \"#0d0887\"], [0.1111111111111111, \"#46039f\"], [0.2222222222222222, \"#7201a8\"], [0.3333333333333333, \"#9c179e\"], [0.4444444444444444, \"#bd3786\"], [0.5555555555555556, \"#d8576b\"], [0.6666666666666666, \"#ed7953\"], [0.7777777777777778, \"#fb9f3a\"], [0.8888888888888888, \"#fdca26\"], [1.0, \"#f0f921\"]], \"type\": \"histogram2dcontour\"}], \"mesh3d\": [{\"colorbar\": {\"outlinewidth\": 0, \"ticks\": \"\"}, \"type\": \"mesh3d\"}], \"parcoords\": [{\"line\": {\"colorbar\": {\"outlinewidth\": 0, \"ticks\": \"\"}}, \"type\": \"parcoords\"}], \"scatter\": [{\"marker\": {\"colorbar\": {\"outlinewidth\": 0, \"ticks\": \"\"}}, \"type\": \"scatter\"}], \"scatter3d\": [{\"line\": {\"colorbar\": {\"outlinewidth\": 0, \"ticks\": \"\"}}, \"marker\": {\"colorbar\": {\"outlinewidth\": 0, \"ticks\": \"\"}}, \"type\": \"scatter3d\"}], \"scattercarpet\": [{\"marker\": {\"colorbar\": {\"outlinewidth\": 0, \"ticks\": \"\"}}, \"type\": \"scattercarpet\"}], \"scattergeo\": [{\"marker\": {\"colorbar\": {\"outlinewidth\": 0, \"ticks\": \"\"}}, \"type\": \"scattergeo\"}], \"scattergl\": [{\"marker\": {\"colorbar\": {\"outlinewidth\": 0, \"ticks\": \"\"}}, \"type\": \"scattergl\"}], \"scattermapbox\": [{\"marker\": {\"colorbar\": {\"outlinewidth\": 0, \"ticks\": \"\"}}, \"type\": \"scattermapbox\"}], \"scatterpolar\": [{\"marker\": {\"colorbar\": {\"outlinewidth\": 0, \"ticks\": \"\"}}, \"type\": \"scatterpolar\"}], \"scatterpolargl\": [{\"marker\": {\"colorbar\": {\"outlinewidth\": 0, \"ticks\": \"\"}}, \"type\": \"scatterpolargl\"}], \"scatterternary\": [{\"marker\": {\"colorbar\": {\"outlinewidth\": 0, \"ticks\": \"\"}}, \"type\": \"scatterternary\"}], \"surface\": [{\"colorbar\": {\"outlinewidth\": 0, \"ticks\": \"\"}, \"colorscale\": [[0.0, \"#0d0887\"], [0.1111111111111111, \"#46039f\"], [0.2222222222222222, \"#7201a8\"], [0.3333333333333333, \"#9c179e\"], [0.4444444444444444, \"#bd3786\"], [0.5555555555555556, \"#d8576b\"], [0.6666666666666666, \"#ed7953\"], [0.7777777777777778, \"#fb9f3a\"], [0.8888888888888888, \"#fdca26\"], [1.0, \"#f0f921\"]], \"type\": \"surface\"}], \"table\": [{\"cells\": {\"fill\": {\"color\": \"#EBF0F8\"}, \"line\": {\"color\": \"white\"}}, \"header\": {\"fill\": {\"color\": \"#C8D4E3\"}, \"line\": {\"color\": \"white\"}}, \"type\": \"table\"}]}, \"layout\": {\"annotationdefaults\": {\"arrowcolor\": \"#2a3f5f\", \"arrowhead\": 0, \"arrowwidth\": 1}, \"colorscale\": {\"diverging\": [[0, \"#8e0152\"], [0.1, \"#c51b7d\"], [0.2, \"#de77ae\"], [0.3, \"#f1b6da\"], [0.4, \"#fde0ef\"], [0.5, \"#f7f7f7\"], [0.6, \"#e6f5d0\"], [0.7, \"#b8e186\"], [0.8, \"#7fbc41\"], [0.9, \"#4d9221\"], [1, \"#276419\"]], \"sequential\": [[0.0, \"#0d0887\"], [0.1111111111111111, \"#46039f\"], [0.2222222222222222, \"#7201a8\"], [0.3333333333333333, \"#9c179e\"], [0.4444444444444444, \"#bd3786\"], [0.5555555555555556, \"#d8576b\"], [0.6666666666666666, \"#ed7953\"], [0.7777777777777778, \"#fb9f3a\"], [0.8888888888888888, \"#fdca26\"], [1.0, \"#f0f921\"]], \"sequentialminus\": [[0.0, \"#0d0887\"], [0.1111111111111111, \"#46039f\"], [0.2222222222222222, \"#7201a8\"], [0.3333333333333333, \"#9c179e\"], [0.4444444444444444, \"#bd3786\"], [0.5555555555555556, \"#d8576b\"], [0.6666666666666666, \"#ed7953\"], [0.7777777777777778, \"#fb9f3a\"], [0.8888888888888888, \"#fdca26\"], [1.0, \"#f0f921\"]]}, \"colorway\": [\"#636efa\", \"#EF553B\", \"#00cc96\", \"#ab63fa\", \"#FFA15A\", \"#19d3f3\", \"#FF6692\", \"#B6E880\", \"#FF97FF\", \"#FECB52\"], \"font\": {\"color\": \"#2a3f5f\"}, \"geo\": {\"bgcolor\": \"white\", \"lakecolor\": \"white\", \"landcolor\": \"#E5ECF6\", \"showlakes\": true, \"showland\": true, \"subunitcolor\": \"white\"}, \"hoverlabel\": {\"align\": \"left\"}, \"hovermode\": \"closest\", \"mapbox\": {\"style\": \"light\"}, \"paper_bgcolor\": \"white\", \"plot_bgcolor\": \"#E5ECF6\", \"polar\": {\"angularaxis\": {\"gridcolor\": \"white\", \"linecolor\": \"white\", \"ticks\": \"\"}, \"bgcolor\": \"#E5ECF6\", \"radialaxis\": {\"gridcolor\": \"white\", \"linecolor\": \"white\", \"ticks\": \"\"}}, \"scene\": {\"xaxis\": {\"backgroundcolor\": \"#E5ECF6\", \"gridcolor\": \"white\", \"gridwidth\": 2, \"linecolor\": \"white\", \"showbackground\": true, \"ticks\": \"\", \"zerolinecolor\": \"white\"}, \"yaxis\": {\"backgroundcolor\": \"#E5ECF6\", \"gridcolor\": \"white\", \"gridwidth\": 2, \"linecolor\": \"white\", \"showbackground\": true, \"ticks\": \"\", \"zerolinecolor\": \"white\"}, \"zaxis\": {\"backgroundcolor\": \"#E5ECF6\", \"gridcolor\": \"white\", \"gridwidth\": 2, \"linecolor\": \"white\", \"showbackground\": true, \"ticks\": \"\", \"zerolinecolor\": \"white\"}}, \"shapedefaults\": {\"line\": {\"color\": \"#2a3f5f\"}}, \"ternary\": {\"aaxis\": {\"gridcolor\": \"white\", \"linecolor\": \"white\", \"ticks\": \"\"}, \"baxis\": {\"gridcolor\": \"white\", \"linecolor\": \"white\", \"ticks\": \"\"}, \"bgcolor\": \"#E5ECF6\", \"caxis\": {\"gridcolor\": \"white\", \"linecolor\": \"white\", \"ticks\": \"\"}}, \"title\": {\"x\": 0.05}, \"xaxis\": {\"automargin\": true, \"gridcolor\": \"white\", \"linecolor\": \"white\", \"ticks\": \"\", \"zerolinecolor\": \"white\", \"zerolinewidth\": 2}, \"yaxis\": {\"automargin\": true, \"gridcolor\": \"white\", \"linecolor\": \"white\", \"ticks\": \"\", \"zerolinecolor\": \"white\", \"zerolinewidth\": 2}}}, \"title\": {\"text\": \"Yes vote ratio per States\"}},\n",
       "                        {\"responsive\": true}\n",
       "                    ).then(function(){\n",
       "                            \n",
       "var gd = document.getElementById('3fa5687f-b2ad-4e44-ada6-3145eeba31ff');\n",
       "var x = new MutationObserver(function (mutations, observer) {{\n",
       "        var display = window.getComputedStyle(gd).display;\n",
       "        if (!display || display === 'none') {{\n",
       "            console.log([gd, 'removed!']);\n",
       "            Plotly.purge(gd);\n",
       "            observer.disconnect();\n",
       "        }}\n",
       "}});\n",
       "\n",
       "// Listen for the removal of the full notebook cells\n",
       "var notebookContainer = gd.closest('#notebook-container');\n",
       "if (notebookContainer) {{\n",
       "    x.observe(notebookContainer, {childList: true});\n",
       "}}\n",
       "\n",
       "// Listen for the clearing of the current output cell\n",
       "var outputEl = gd.closest('.output');\n",
       "if (outputEl) {{\n",
       "    x.observe(outputEl, {childList: true});\n",
       "}}\n",
       "\n",
       "                        })\n",
       "                };\n",
       "                });\n",
       "            </script>\n",
       "        </div>"
      ]
     },
     "metadata": {},
     "output_type": "display_data"
    }
   ],
   "source": [
    "data=dict(\n",
    "    type = 'choropleth',\n",
    "    locations = countries['Code'],\n",
    "    z = countries['yes_vote_ratio'],\n",
    "    text = countries['Country'],\n",
    "    colorscale = 'YlOrRd',\n",
    "    marker_line_color='darkgray',\n",
    "    marker_line_width=0.7,\n",
    "    colorbar_title = \"yes_vote_ratio\",\n",
    ")\n",
    "\n",
    "layout = dict(title_text='Yes vote ratio per States',\n",
    "    geo=dict(\n",
    "        showframe=False,\n",
    "        showcoastlines=True,\n",
    "        projection_type='equirectangular'\n",
    "    ))\n",
    "\n",
    "fig = go.Figure(data = [data], layout = layout)\n",
    "iplot(fig)"
   ]
  },
  {
   "cell_type": "markdown",
   "metadata": {},
   "source": [
    "#### Can someone explain why western countries like US, European cast more \"no\" votes than Asia, African countries?"
   ]
  },
  {
   "cell_type": "markdown",
   "metadata": {},
   "source": [
    "### five permanent members of the United Nations Security Council"
   ]
  },
  {
   "cell_type": "code",
   "execution_count": 7,
   "metadata": {},
   "outputs": [
    {
     "data": {
      "image/png": "[encoded data removed]",
      "text/plain": [
       "<Figure size 1800x288 with 5 Axes>"
      ]
     },
     "metadata": {
      "needs_background": "light"
     },
     "output_type": "display_data"
    }
   ],
   "source": [
    "top_countries = [\"China\",\"France\",\"United States of America\",\"Russia\",\"United Kingdom\"]\n",
    "fig, axs = plt.subplots(nrows=1, ncols=5, sharex = False, sharey = True, figsize=(25,4))\n",
    "for i, country in enumerate(top_countries):\n",
    "    new_df = state_df[state_df['state_name'] == country]\n",
    "    ax = axs[i]\n",
    "    ax.set_xlim(1945,2015)\n",
    "    ax.plot(new_df['year'], new_df['yes_votes'].values/new_df['all_votes'].values)\n",
    "    ax.set_title(str(country))\n",
    "plt.show()"
   ]
  },
  {
   "cell_type": "markdown",
   "metadata": {},
   "source": [
    "### Merge 2 database"
   ]
  },
  {
   "cell_type": "code",
   "execution_count": 8,
   "metadata": {},
   "outputs": [
    {
     "data": {
      "text/html": [
       "<div>\n",
       "<style scoped>\n",
       "    .dataframe tbody tr th:only-of-type {\n",
       "        vertical-align: middle;\n",
       "    }\n",
       "\n",
       "    .dataframe tbody tr th {\n",
       "        vertical-align: top;\n",
       "    }\n",
       "\n",
       "    .dataframe thead th {\n",
       "        text-align: right;\n",
       "    }\n",
       "</style>\n",
       "<table border=\"1\" class=\"dataframe\">\n",
       "  <thead>\n",
       "    <tr style=\"text-align: right;\">\n",
       "      <th></th>\n",
       "      <th>assembly_session</th>\n",
       "      <th>vote_id</th>\n",
       "      <th>resolution</th>\n",
       "      <th>state_code</th>\n",
       "      <th>state_name</th>\n",
       "      <th>member</th>\n",
       "      <th>vote</th>\n",
       "      <th>vote_date</th>\n",
       "      <th>colonization</th>\n",
       "      <th>human_rights</th>\n",
       "      <th>israel_palestine</th>\n",
       "      <th>disarmament</th>\n",
       "      <th>nuclear_weapons</th>\n",
       "      <th>economic_development</th>\n",
       "    </tr>\n",
       "  </thead>\n",
       "  <tbody>\n",
       "    <tr>\n",
       "      <th>527167</th>\n",
       "      <td>39</td>\n",
       "      <td>2790</td>\n",
       "      <td>R/39/412</td>\n",
       "      <td>970</td>\n",
       "      <td>Nauru</td>\n",
       "      <td>0</td>\n",
       "      <td>Not a Member</td>\n",
       "      <td>12/3/1984</td>\n",
       "      <td>1.0</td>\n",
       "      <td>0.0</td>\n",
       "      <td>0.0</td>\n",
       "      <td>0.0</td>\n",
       "      <td>0.0</td>\n",
       "      <td>0.0</td>\n",
       "    </tr>\n",
       "    <tr>\n",
       "      <th>527168</th>\n",
       "      <td>39</td>\n",
       "      <td>2790</td>\n",
       "      <td>R/39/412</td>\n",
       "      <td>983</td>\n",
       "      <td>Marshall Islands</td>\n",
       "      <td>0</td>\n",
       "      <td>Not a Member</td>\n",
       "      <td>12/3/1984</td>\n",
       "      <td>1.0</td>\n",
       "      <td>0.0</td>\n",
       "      <td>0.0</td>\n",
       "      <td>0.0</td>\n",
       "      <td>0.0</td>\n",
       "      <td>0.0</td>\n",
       "    </tr>\n",
       "    <tr>\n",
       "      <th>527169</th>\n",
       "      <td>39</td>\n",
       "      <td>2790</td>\n",
       "      <td>R/39/412</td>\n",
       "      <td>986</td>\n",
       "      <td>Palau</td>\n",
       "      <td>0</td>\n",
       "      <td>Not a Member</td>\n",
       "      <td>12/3/1984</td>\n",
       "      <td>1.0</td>\n",
       "      <td>0.0</td>\n",
       "      <td>0.0</td>\n",
       "      <td>0.0</td>\n",
       "      <td>0.0</td>\n",
       "      <td>0.0</td>\n",
       "    </tr>\n",
       "    <tr>\n",
       "      <th>527170</th>\n",
       "      <td>39</td>\n",
       "      <td>2790</td>\n",
       "      <td>R/39/412</td>\n",
       "      <td>987</td>\n",
       "      <td>Federated States of Micronesia</td>\n",
       "      <td>0</td>\n",
       "      <td>Not a Member</td>\n",
       "      <td>12/3/1984</td>\n",
       "      <td>1.0</td>\n",
       "      <td>0.0</td>\n",
       "      <td>0.0</td>\n",
       "      <td>0.0</td>\n",
       "      <td>0.0</td>\n",
       "      <td>0.0</td>\n",
       "    </tr>\n",
       "    <tr>\n",
       "      <th>527171</th>\n",
       "      <td>39</td>\n",
       "      <td>2790</td>\n",
       "      <td>R/39/412</td>\n",
       "      <td>990</td>\n",
       "      <td>Samoa</td>\n",
       "      <td>1</td>\n",
       "      <td>Yes</td>\n",
       "      <td>12/3/1984</td>\n",
       "      <td>1.0</td>\n",
       "      <td>0.0</td>\n",
       "      <td>0.0</td>\n",
       "      <td>0.0</td>\n",
       "      <td>0.0</td>\n",
       "      <td>0.0</td>\n",
       "    </tr>\n",
       "  </tbody>\n",
       "</table>\n",
       "</div>"
      ],
      "text/plain": [
       "        assembly_session  vote_id resolution  state_code  \\\n",
       "527167                39     2790   R/39/412         970   \n",
       "527168                39     2790   R/39/412         983   \n",
       "527169                39     2790   R/39/412         986   \n",
       "527170                39     2790   R/39/412         987   \n",
       "527171                39     2790   R/39/412         990   \n",
       "\n",
       "                            state_name  member          vote  vote_date  \\\n",
       "527167                           Nauru       0  Not a Member  12/3/1984   \n",
       "527168                Marshall Islands       0  Not a Member  12/3/1984   \n",
       "527169                           Palau       0  Not a Member  12/3/1984   \n",
       "527170  Federated States of Micronesia       0  Not a Member  12/3/1984   \n",
       "527171                           Samoa       1           Yes  12/3/1984   \n",
       "\n",
       "        colonization  human_rights  israel_palestine  disarmament  \\\n",
       "527167           1.0           0.0               0.0          0.0   \n",
       "527168           1.0           0.0               0.0          0.0   \n",
       "527169           1.0           0.0               0.0          0.0   \n",
       "527170           1.0           0.0               0.0          0.0   \n",
       "527171           1.0           0.0               0.0          0.0   \n",
       "\n",
       "        nuclear_weapons  economic_development  \n",
       "527167              0.0                   0.0  \n",
       "527168              0.0                   0.0  \n",
       "527169              0.0                   0.0  \n",
       "527170              0.0                   0.0  \n",
       "527171              0.0                   0.0  "
      ]
     },
     "execution_count": 8,
     "metadata": {},
     "output_type": "execute_result"
    }
   ],
   "source": [
    "resolution_df = pd.read_csv(\"../input/general-assembly/resolutions.csv\").dropna()\n",
    "data_df = pd.read_csv(\"../input/general-assembly/votes.csv\")\n",
    "merge_df = pd.merge(data_df, resolution_df[['resolution', 'vote_date',\"colonization\",\"human_rights\",\"israel_palestine\", \"disarmament\", \"nuclear_weapons\", \"economic_development\"]], on=\"resolution\")\n",
    "\n",
    "vote_respond = {1:\"Yes\", 2:\"No\", 3:\"Abstain\", 8:\"Absent\", 9:\"Not a Member\"}\n",
    "new_vote = [vote_respond[i] for i in merge_df['vote']]\n",
    "merge_df['vote'] = new_vote\n",
    "merge_df.tail()"
   ]
  },
  {
   "cell_type": "code",
   "execution_count": null,
   "metadata": {},
   "outputs": [],
   "source": []
  }
 ],
 "metadata": {
  "kernelspec": {
   "display_name": "Python 3",
   "language": "python",
   "name": "python3"
  },
  "language_info": {
   "codemirror_mode": {
    "name": "ipython",
    "version": 3
   },
   "file_extension": ".py",
   "mimetype": "text/x-python",
   "name": "python",
   "nbconvert_exporter": "python",
   "pygments_lexer": "ipython3",
   "version": "3.6.6"
  }
 },
 "nbformat": 4,
 "nbformat_minor": 1
}

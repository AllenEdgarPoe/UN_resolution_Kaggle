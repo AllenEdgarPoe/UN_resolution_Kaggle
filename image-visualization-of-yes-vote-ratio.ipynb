{
 "cells": [
  {
   "cell_type": "markdown",
   "metadata": {},
   "source": [
    "### Yes vote ratio per States\n",
    "I did simple analysis on how states respond to UN general assembly. <br>\n",
    "I calculated the ratio of yes_vote per states and the conclusion is quite surprising"
   ]
  },
  {
   "cell_type": "markdown",
   "metadata": {},
   "source": [
    "### Library"
   ]
  },
  {
   "cell_type": "code",
   "execution_count": 1,
   "metadata": {
    "_cell_guid": "79c7e3d0-c299-4dcb-8224-4455121ee9b0",
    "_uuid": "d629ff2d2480ee46fbb7e2d37f6b5fab8052498a"
   },
   "outputs": [
    {
     "data": {
      "text/html": [
       "        <script type=\"text/javascript\">\n",
       "        window.PlotlyConfig = {MathJaxConfig: 'local'};\n",
       "        if (window.MathJax) {MathJax.Hub.Config({SVG: {font: \"STIX-Web\"}});}\n",
       "        if (typeof require !== 'undefined') {\n",
       "        require.undef(\"plotly\");\n",
       "        requirejs.config({\n",
       "            paths: {\n",
       "                'plotly': ['https://cdn.plot.ly/plotly-latest.min']\n",
       "            }\n",
       "        });\n",
       "        require(['plotly'], function(Plotly) {\n",
       "            window._Plotly = Plotly;\n",
       "        });\n",
       "        }\n",
       "        </script>\n",
       "        "
      ]
     },
     "metadata": {},
     "output_type": "display_data"
    }
   ],
   "source": [
    "import os\n",
    "import numpy as np \n",
    "import pandas as pd\n",
    "import matplotlib.pyplot as plt\n",
    "%matplotlib inline\n",
    "import seaborn as sns\n",
    "from plotly.offline import download_plotlyjs, init_notebook_mode, plot, iplot\n",
    "import plotly.graph_objs as go\n",
    "init_notebook_mode(connected = True)"
   ]
  },
  {
   "cell_type": "code",
   "execution_count": 2,
   "metadata": {},
   "outputs": [],
   "source": [
    "state_file = os.path.join(\"../input/general-assembly\",\"states.csv\")\n",
    "state_df = pd.read_csv(state_file).dropna(axis=0) #none 값이 들어간 행 삭제\n",
    "change_name = {'United States of America': \"United States\", \"South Korea\":\"Korea, South\", \"North Korea\":\"Korea, North\",\"German Democratic Republic\":'Germany',\"Myanmar\":'Burma',\"Yemen People's Republic\":'Yemen'}\n",
    "country_list= list(set(state_df['state_name']))"
   ]
  },
  {
   "cell_type": "code",
   "execution_count": 3,
   "metadata": {},
   "outputs": [],
   "source": [
    "yes_vote_ratio = dict()\n",
    "for country in country_list:\n",
    "    new_df = state_df[state_df['state_name']==country]\n",
    "    ratio = sum(new_df['yes_votes'])/sum(new_df['all_votes'])\n",
    "    if country in change_name:\n",
    "        country = change_name[country]\n",
    "    yes_vote_ratio[country] = ratio"
   ]
  },
  {
   "cell_type": "code",
   "execution_count": 4,
   "metadata": {},
   "outputs": [
    {
     "data": {
      "text/plain": [
       "{'Japan': 0.5803246910588805,\n",
       " 'Benin': 0.9281421478965247,\n",
       " 'Zambia': 0.9364133134624938,\n",
       " 'Angola': 0.9213630406290957,\n",
       " 'Ghana': 0.9391874842291194,\n",
       " 'Russia': 0.7288424124513618,\n",
       " 'Iceland': 0.6084396467124632,\n",
       " 'Sierra Leone': 0.9369146005509642,\n",
       " 'San Marino': 0.6664425016812374,\n",
       " 'Burundi': 0.9357064017660044,\n",
       " 'Samoa': 0.8490387645761109,\n",
       " 'Mauritius': 0.9413802291500133,\n",
       " 'Indonesia': 0.9228529839883551,\n",
       " 'Argentina': 0.8352453014400781,\n",
       " 'Bahrain': 0.9324656188605108,\n",
       " 'Czechoslovakia': 0.7492957746478873,\n",
       " 'Monaco': 0.6408730158730159,\n",
       " 'Pakistan': 0.895405669599218,\n",
       " 'Bangladesh': 0.9379163335997869,\n",
       " 'Syria': 0.887711329800656,\n",
       " 'Bahamas': 0.891470749043193,\n",
       " 'Morocco': 0.9272136068034017,\n",
       " 'Nigeria': 0.9357409713574097,\n",
       " 'Canada': 0.5044783345436941,\n",
       " 'Palau': 0.3172103487064117,\n",
       " 'Nauru': 0.5925925925925926,\n",
       " 'Guatemala': 0.8415736310473153,\n",
       " 'Oman': 0.9287871162556618,\n",
       " 'Peru': 0.9151264591439688,\n",
       " 'Sri Lanka': 0.9277791471530688,\n",
       " 'El Salvador': 0.8813928182807399,\n",
       " 'Saudi Arabia': 0.9253353581371805,\n",
       " 'Solomon Islands': 0.8981891348088531,\n",
       " 'Dominica': 0.8766756032171582,\n",
       " 'Laos': 0.9065148305084746,\n",
       " 'Montenegro': 0.6412429378531074,\n",
       " 'Denmark': 0.586282113427048,\n",
       " 'Djibouti': 0.9560240963855422,\n",
       " 'Yemen': 0.9066666666666666,\n",
       " 'St. Kitts and Nevis': 0.9018895348837209,\n",
       " 'South Africa': 0.8330522765598651,\n",
       " 'Maldives': 0.9480837184017396,\n",
       " 'Armenia': 0.7572575663990118,\n",
       " 'Tanzania': 0.9284110750810676,\n",
       " 'United Kingdom': 0.42033568474823646,\n",
       " 'Switzerland': 0.6527363184079602,\n",
       " 'Belarus': 0.7908125463077303,\n",
       " 'Guinea-Bissau': 0.9556067083196317,\n",
       " 'Swaziland': 0.889988358556461,\n",
       " 'India': 0.8411464658732086,\n",
       " 'Qatar': 0.9388667992047713,\n",
       " 'Niger': 0.9363735663571818,\n",
       " 'Austria': 0.6497216170418785,\n",
       " 'New Zealand': 0.6410007286859364,\n",
       " 'Ukraine': 0.7410387710314558,\n",
       " 'Albania': 0.7406901264092928,\n",
       " 'Cyprus': 0.8549975381585426,\n",
       " 'Turkmenistan': 0.9121212121212121,\n",
       " 'Paraguay': 0.8418512208972175,\n",
       " 'Algeria': 0.9147324700708527,\n",
       " 'United States': 0.21171609139523578,\n",
       " 'Jamaica': 0.9168539325842696,\n",
       " 'Mozambique': 0.9422572178477691,\n",
       " 'Zimbabwe': 0.9380804953560371,\n",
       " 'East Timor': 0.9699879951980792,\n",
       " 'Mongolia': 0.8469903894790086,\n",
       " 'Bosnia and Herzegovina': 0.6840062111801242,\n",
       " 'Honduras': 0.8757286698463169,\n",
       " 'Czech Republic': 0.624,\n",
       " 'South Sudan': 0.6709677419354839,\n",
       " 'Mali': 0.9409704852426213,\n",
       " 'Afghanistan': 0.9096465585968642,\n",
       " 'Cambodia': 0.9472822527832351,\n",
       " 'Namibia': 0.9278290993071594,\n",
       " 'Liberia': 0.8894887265798667,\n",
       " 'Congo': 0.9172932330827067,\n",
       " 'Chad': 0.9251980982567354,\n",
       " 'Antigua & Barbuda': 0.9191232048374905,\n",
       " 'Chile': 0.8835911742328176,\n",
       " 'Netherlands': 0.5399903053805138,\n",
       " 'Norway': 0.6012135922330097,\n",
       " 'Malta': 0.8370914618697746,\n",
       " 'Germany': 0.7818627450980392,\n",
       " 'Madagascar': 0.9403225806451613,\n",
       " 'Finland': 0.6547128664889751,\n",
       " 'Israel': 0.28800413650465356,\n",
       " 'Ivory Coast': 0.830352580480327,\n",
       " 'Lesotho': 0.9212642084835043,\n",
       " 'Croatia': 0.6384039900249376,\n",
       " 'Burma': 0.8686688724866378,\n",
       " 'Philippines': 0.9244912968864918,\n",
       " 'Tuvalu': 0.84992784992785,\n",
       " 'Eritrea': 0.926950354609929,\n",
       " 'Suriname': 0.9405852793378658,\n",
       " 'Lebanon': 0.916338840807763,\n",
       " 'Uzbekistan': 0.7568523430592397,\n",
       " 'Marshall Islands': 0.48680904522613067,\n",
       " 'Cape Verde': 0.9595959595959596,\n",
       " 'Korea, North': 0.8451612903225807,\n",
       " 'Venezuela': 0.9148988051694709,\n",
       " 'Panama': 0.9014514896867838,\n",
       " 'Georgia': 0.5960912052117264,\n",
       " 'Thailand': 0.9178082191780822,\n",
       " 'Trinidad and Tobago': 0.9399346569489822,\n",
       " 'Guinea': 0.9395903551983407,\n",
       " 'Uruguay': 0.8682440846824409,\n",
       " 'Haiti': 0.9061870503597123,\n",
       " 'Hungary': 0.6987509184423218,\n",
       " 'Bolivia': 0.9128323108384458,\n",
       " 'Andorra': 0.6426735218508998,\n",
       " 'Vanuatu': 0.8928255093002657,\n",
       " 'St. Vincent and the Grenadines': 0.902946273830156,\n",
       " 'Cameroon': 0.8514776458701693,\n",
       " 'Mexico': 0.9328484848484848,\n",
       " 'Ethiopia': 0.9144076305220884,\n",
       " 'Kyrgyzstan': 0.8419452887537994,\n",
       " 'Poland': 0.7032886723507917,\n",
       " 'Estonia': 0.6142278773857721,\n",
       " 'Sudan': 0.9275870709095465,\n",
       " 'Mauritania': 0.9342931937172775,\n",
       " 'Tajikistan': 0.8410174880763116,\n",
       " 'Guyana': 0.9468348170128585,\n",
       " 'Moldova': 0.6203759854457247,\n",
       " 'China': 0.8689747003994673,\n",
       " 'Italy': 0.5275552318523914,\n",
       " 'Belize': 0.9333881578947368,\n",
       " 'Luxembourg': 0.5187256809338522,\n",
       " 'Gabon': 0.9185595567867036,\n",
       " 'Kenya': 0.9224181360201511,\n",
       " 'Slovenia': 0.6365809922295278,\n",
       " 'Ecuador': 0.9256340802757942,\n",
       " 'Papua New Guinea': 0.8751486325802615,\n",
       " 'Ireland': 0.630418987648341,\n",
       " 'Tunisia': 0.9426470588235294,\n",
       " 'Jordan': 0.9306142750559562,\n",
       " 'Kuwait': 0.9443754656071517,\n",
       " 'Botswana': 0.9414737962223996,\n",
       " 'Sao Tome and Principe': 0.9670468948035488,\n",
       " 'Kazakhstan': 0.8236009732360098,\n",
       " 'Liechtenstein': 0.6410118406889128,\n",
       " 'Yemen Arab Republic': 0.928552870875552,\n",
       " 'Rwanda': 0.9257518796992481,\n",
       " 'Brunei': 0.9300334946036471,\n",
       " 'Costa Rica': 0.8744834710743802,\n",
       " 'Senegal': 0.9457383548067394,\n",
       " 'Togo': 0.930558975621768,\n",
       " 'Singapore': 0.8969712015888779,\n",
       " 'Nicaragua': 0.8869001297016861,\n",
       " 'Azerbaijan': 0.8670076726342711,\n",
       " 'Uganda': 0.914187944195841,\n",
       " 'Slovakia': 0.6317088217149908,\n",
       " 'Libya': 0.9213709677419355,\n",
       " 'Cuba': 0.8421442687747036,\n",
       " 'Vietnam': 0.9075579644685335,\n",
       " 'Equatorial Guinea': 0.8830275229357798,\n",
       " 'Grenada': 0.8762816131237184,\n",
       " 'Romania': 0.7655360237682595,\n",
       " 'Iraq': 0.914752116082225,\n",
       " 'Australia': 0.5804026194518555,\n",
       " 'Spain': 0.6435691709214685,\n",
       " 'Seychelles': 0.9780775716694773,\n",
       " 'Tonga': 0.7240223463687151,\n",
       " 'Yugoslavia': 0.8537482319660538,\n",
       " 'Turkey': 0.7380073800738007,\n",
       " 'Malaysia': 0.9278450363196126,\n",
       " 'Burkina Faso': 0.9352610030706243,\n",
       " 'Egypt': 0.9139364303178484,\n",
       " 'Fiji': 0.8526425410049466,\n",
       " 'St. Lucia': 0.9166666666666666,\n",
       " 'Central African Republic': 0.8816489361702128,\n",
       " 'Democratic Republic of the Congo': 0.866576819407008,\n",
       " 'Macedonia': 0.6346153846153846,\n",
       " 'Brazil': 0.8749085588880761,\n",
       " 'Gambia': 0.9439885836603639,\n",
       " 'Comoros': 0.9446435682994823,\n",
       " 'Iran': 0.9148232901093313,\n",
       " 'Colombia': 0.8959523218276633,\n",
       " 'Sweden': 0.6484980620155039,\n",
       " 'United Arab Emirates': 0.9407927747114903,\n",
       " 'Somalia': 0.9366790165038733,\n",
       " 'Bhutan': 0.9121405750798722,\n",
       " 'Lithuania': 0.6150770988006853,\n",
       " 'France': 0.43795798729848556,\n",
       " 'Dominican Republic': 0.8853610564765384,\n",
       " 'Korea, South': 0.6404816513761468,\n",
       " 'Greece': 0.6973586768699087,\n",
       " 'Nepal': 0.90757538612405,\n",
       " 'Federated States of Micronesia': 0.4101858224363386,\n",
       " 'Portugal': 0.5741324921135647,\n",
       " 'Barbados': 0.9207332816937774,\n",
       " 'Bulgaria': 0.6999755680430002,\n",
       " 'Malawi': 0.7908440629470672,\n",
       " 'Belgium': 0.5070388349514563,\n",
       " 'Latvia': 0.6034985422740525,\n",
       " 'Kiribati': 0.9181818181818182,\n",
       " 'German Federal Republic': 0.493196405648267}"
      ]
     },
     "execution_count": 4,
     "metadata": {},
     "output_type": "execute_result"
    }
   ],
   "source": [
    "yes_vote_ratio"
   ]
  },
  {
   "cell_type": "code",
   "execution_count": 5,
   "metadata": {},
   "outputs": [],
   "source": [
    "countries_df = pd.DataFrame.from_dict(yes_vote_ratio, orient = 'index', columns=['yes_vote_ratio'])\n",
    "code_df = pd.read_csv('https://raw.githubusercontent.com/plotly/datasets/master/2014_world_gdp_with_codes.csv')\n",
    "\n",
    "def return_country_code(con):\n",
    "    if con in code_df['COUNTRY'].values:\n",
    "        return code_df[code_df['COUNTRY'] == con]['CODE'].values[0]\n",
    "\n",
    "countries_df['Country'] = countries_df.index\n",
    "countries_df['Code'] = countries_df['Country'].apply(return_country_code)\n",
    "countries = countries_df.dropna()"
   ]
  },
  {
   "cell_type": "code",
   "execution_count": 6,
   "metadata": {},
   "outputs": [
    {
     "data": {
      "application/vnd.plotly.v1+json": {
       "config": {
        "linkText": "Export to plot.ly",
        "plotlyServerURL": "https://plot.ly",
        "showLink": false
       },
       "data": [
        {
         "colorbar": {
          "title": {
           "text": "yes_vote_ratio"
          }
         },
         "colorscale": [
          [
           0.0,
           "rgb(255,255,204)"
          ],
          [
           0.125,
           "rgb(255,237,160)"
          ],
          [
           0.25,
           "rgb(254,217,118)"
          ],
          [
           0.375,
           "rgb(254,178,76)"
          ],
          [
           0.5,
           "rgb(253,141,60)"
          ],
          [
           0.625,
           "rgb(252,78,42)"
          ],
          [
           0.75,
           "rgb(227,26,28)"
          ],
          [
           0.875,
           "rgb(189,0,38)"
          ],
          [
           1.0,
           "rgb(128,0,38)"
          ]
         ],
         "locations": [
          "JPN",
          "BEN",
          "ZMB",
          "AGO",
          "GHA",
          "RUS",
          "ISL",
          "SLE",
          "SMR",
          "BDI",
          "WSM",
          "MUS",
          "IDN",
          "ARG",
          "BHR",
          "MCO",
          "PAK",
          "BGD",
          "SYR",
          "MAR",
          "NGA",
          "CAN",
          "PLW",
          "GTM",
          "OMN",
          "PER",
          "LKA",
          "SLV",
          "SAU",
          "SLB",
          "DMA",
          "LAO",
          "MNE",
          "DNK",
          "DJI",
          "YEM",
          "ZAF",
          "MDV",
          "ARM",
          "TZA",
          "GBR",
          "CHE",
          "BLR",
          "GNB",
          "SWZ",
          "IND",
          "QAT",
          "NER",
          "AUT",
          "NZL",
          "UKR",
          "ALB",
          "CYP",
          "TKM",
          "PRY",
          "DZA",
          "USA",
          "JAM",
          "MOZ",
          "ZWE",
          "MNG",
          "BIH",
          "HND",
          "CZE",
          "SSD",
          "MLI",
          "AFG",
          "KHM",
          "NAM",
          "LBR",
          "TCD",
          "CHL",
          "NLD",
          "NOR",
          "MLT",
          "DEU",
          "MDG",
          "FIN",
          "ISR",
          "LSO",
          "HRV",
          "MMR",
          "PHL",
          "TUV",
          "ERI",
          "SUR",
          "LBN",
          "UZB",
          "MHL",
          "PRK",
          "VEN",
          "PAN",
          "GEO",
          "THA",
          "TTO",
          "GIN",
          "URY",
          "HTI",
          "HUN",
          "BOL",
          "AND",
          "VUT",
          "CMR",
          "MEX",
          "ETH",
          "KGZ",
          "POL",
          "EST",
          "SDN",
          "MRT",
          "TJK",
          "GUY",
          "MDA",
          "CHN",
          "ITA",
          "BLZ",
          "LUX",
          "GAB",
          "KEN",
          "SVN",
          "ECU",
          "PNG",
          "IRL",
          "TUN",
          "JOR",
          "KWT",
          "BWA",
          "STP",
          "KAZ",
          "LIE",
          "RWA",
          "BRN",
          "CRI",
          "SEN",
          "TGO",
          "SGP",
          "NIC",
          "AZE",
          "UGA",
          "SVK",
          "LBY",
          "CUB",
          "VNM",
          "GNQ",
          "GRD",
          "ROU",
          "IRQ",
          "AUS",
          "ESP",
          "SYC",
          "TON",
          "TUR",
          "MYS",
          "BFA",
          "EGY",
          "FJI",
          "CAF",
          "MKD",
          "BRA",
          "COM",
          "IRN",
          "COL",
          "SWE",
          "ARE",
          "SOM",
          "BTN",
          "LTU",
          "FRA",
          "DOM",
          "KOR",
          "GRC",
          "NPL",
          "PRT",
          "BRB",
          "BGR",
          "MWI",
          "BEL",
          "LVA",
          "KIR"
         ],
         "marker": {
          "line": {
           "color": "darkgray",
           "width": 0.7
          }
         },
         "text": [
          "Japan",
          "Benin",
          "Zambia",
          "Angola",
          "Ghana",
          "Russia",
          "Iceland",
          "Sierra Leone",
          "San Marino",
          "Burundi",
          "Samoa",
          "Mauritius",
          "Indonesia",
          "Argentina",
          "Bahrain",
          "Monaco",
          "Pakistan",
          "Bangladesh",
          "Syria",
          "Morocco",
          "Nigeria",
          "Canada",
          "Palau",
          "Guatemala",
          "Oman",
          "Peru",
          "Sri Lanka",
          "El Salvador",
          "Saudi Arabia",
          "Solomon Islands",
          "Dominica",
          "Laos",
          "Montenegro",
          "Denmark",
          "Djibouti",
          "Yemen",
          "South Africa",
          "Maldives",
          "Armenia",
          "Tanzania",
          "United Kingdom",
          "Switzerland",
          "Belarus",
          "Guinea-Bissau",
          "Swaziland",
          "India",
          "Qatar",
          "Niger",
          "Austria",
          "New Zealand",
          "Ukraine",
          "Albania",
          "Cyprus",
          "Turkmenistan",
          "Paraguay",
          "Algeria",
          "United States",
          "Jamaica",
          "Mozambique",
          "Zimbabwe",
          "Mongolia",
          "Bosnia and Herzegovina",
          "Honduras",
          "Czech Republic",
          "South Sudan",
          "Mali",
          "Afghanistan",
          "Cambodia",
          "Namibia",
          "Liberia",
          "Chad",
          "Chile",
          "Netherlands",
          "Norway",
          "Malta",
          "Germany",
          "Madagascar",
          "Finland",
          "Israel",
          "Lesotho",
          "Croatia",
          "Burma",
          "Philippines",
          "Tuvalu",
          "Eritrea",
          "Suriname",
          "Lebanon",
          "Uzbekistan",
          "Marshall Islands",
          "Korea, North",
          "Venezuela",
          "Panama",
          "Georgia",
          "Thailand",
          "Trinidad and Tobago",
          "Guinea",
          "Uruguay",
          "Haiti",
          "Hungary",
          "Bolivia",
          "Andorra",
          "Vanuatu",
          "Cameroon",
          "Mexico",
          "Ethiopia",
          "Kyrgyzstan",
          "Poland",
          "Estonia",
          "Sudan",
          "Mauritania",
          "Tajikistan",
          "Guyana",
          "Moldova",
          "China",
          "Italy",
          "Belize",
          "Luxembourg",
          "Gabon",
          "Kenya",
          "Slovenia",
          "Ecuador",
          "Papua New Guinea",
          "Ireland",
          "Tunisia",
          "Jordan",
          "Kuwait",
          "Botswana",
          "Sao Tome and Principe",
          "Kazakhstan",
          "Liechtenstein",
          "Rwanda",
          "Brunei",
          "Costa Rica",
          "Senegal",
          "Togo",
          "Singapore",
          "Nicaragua",
          "Azerbaijan",
          "Uganda",
          "Slovakia",
          "Libya",
          "Cuba",
          "Vietnam",
          "Equatorial Guinea",
          "Grenada",
          "Romania",
          "Iraq",
          "Australia",
          "Spain",
          "Seychelles",
          "Tonga",
          "Turkey",
          "Malaysia",
          "Burkina Faso",
          "Egypt",
          "Fiji",
          "Central African Republic",
          "Macedonia",
          "Brazil",
          "Comoros",
          "Iran",
          "Colombia",
          "Sweden",
          "United Arab Emirates",
          "Somalia",
          "Bhutan",
          "Lithuania",
          "France",
          "Dominican Republic",
          "Korea, South",
          "Greece",
          "Nepal",
          "Portugal",
          "Barbados",
          "Bulgaria",
          "Malawi",
          "Belgium",
          "Latvia",
          "Kiribati"
         ],
         "type": "choropleth",
         "z": [
          0.5803246910588805,
          0.9281421478965247,
          0.9364133134624938,
          0.9213630406290957,
          0.9391874842291194,
          0.7288424124513618,
          0.6084396467124632,
          0.9369146005509642,
          0.6664425016812374,
          0.9357064017660044,
          0.8490387645761109,
          0.9413802291500133,
          0.9228529839883551,
          0.8352453014400781,
          0.9324656188605108,
          0.6408730158730159,
          0.895405669599218,
          0.9379163335997869,
          0.887711329800656,
          0.9272136068034017,
          0.9357409713574097,
          0.5044783345436941,
          0.3172103487064117,
          0.8415736310473153,
          0.9287871162556618,
          0.9151264591439688,
          0.9277791471530688,
          0.8813928182807399,
          0.9253353581371805,
          0.8981891348088531,
          0.8766756032171582,
          0.9065148305084746,
          0.6412429378531074,
          0.586282113427048,
          0.9560240963855422,
          0.9066666666666666,
          0.8330522765598651,
          0.9480837184017396,
          0.7572575663990118,
          0.9284110750810676,
          0.42033568474823646,
          0.6527363184079602,
          0.7908125463077303,
          0.9556067083196317,
          0.889988358556461,
          0.8411464658732086,
          0.9388667992047713,
          0.9363735663571818,
          0.6497216170418785,
          0.6410007286859364,
          0.7410387710314558,
          0.7406901264092928,
          0.8549975381585426,
          0.9121212121212121,
          0.8418512208972175,
          0.9147324700708527,
          0.21171609139523578,
          0.9168539325842696,
          0.9422572178477691,
          0.9380804953560371,
          0.8469903894790086,
          0.6840062111801242,
          0.8757286698463169,
          0.624,
          0.6709677419354839,
          0.9409704852426213,
          0.9096465585968642,
          0.9472822527832351,
          0.9278290993071594,
          0.8894887265798667,
          0.9251980982567354,
          0.8835911742328176,
          0.5399903053805138,
          0.6012135922330097,
          0.8370914618697746,
          0.7818627450980392,
          0.9403225806451613,
          0.6547128664889751,
          0.28800413650465356,
          0.9212642084835043,
          0.6384039900249376,
          0.8686688724866378,
          0.9244912968864918,
          0.84992784992785,
          0.926950354609929,
          0.9405852793378658,
          0.916338840807763,
          0.7568523430592397,
          0.48680904522613067,
          0.8451612903225807,
          0.9148988051694709,
          0.9014514896867838,
          0.5960912052117264,
          0.9178082191780822,
          0.9399346569489822,
          0.9395903551983407,
          0.8682440846824409,
          0.9061870503597123,
          0.6987509184423218,
          0.9128323108384458,
          0.6426735218508998,
          0.8928255093002657,
          0.8514776458701693,
          0.9328484848484848,
          0.9144076305220884,
          0.8419452887537994,
          0.7032886723507917,
          0.6142278773857721,
          0.9275870709095465,
          0.9342931937172775,
          0.8410174880763116,
          0.9468348170128585,
          0.6203759854457247,
          0.8689747003994673,
          0.5275552318523914,
          0.9333881578947368,
          0.5187256809338522,
          0.9185595567867036,
          0.9224181360201511,
          0.6365809922295278,
          0.9256340802757942,
          0.8751486325802615,
          0.630418987648341,
          0.9426470588235294,
          0.9306142750559562,
          0.9443754656071517,
          0.9414737962223996,
          0.9670468948035488,
          0.8236009732360098,
          0.6410118406889128,
          0.9257518796992481,
          0.9300334946036471,
          0.8744834710743802,
          0.9457383548067394,
          0.930558975621768,
          0.8969712015888779,
          0.8869001297016861,
          0.8670076726342711,
          0.914187944195841,
          0.6317088217149908,
          0.9213709677419355,
          0.8421442687747036,
          0.9075579644685335,
          0.8830275229357798,
          0.8762816131237184,
          0.7655360237682595,
          0.914752116082225,
          0.5804026194518555,
          0.6435691709214685,
          0.9780775716694773,
          0.7240223463687151,
          0.7380073800738007,
          0.9278450363196126,
          0.9352610030706243,
          0.9139364303178484,
          0.8526425410049466,
          0.8816489361702128,
          0.6346153846153846,
          0.8749085588880761,
          0.9446435682994823,
          0.9148232901093313,
          0.8959523218276633,
          0.6484980620155039,
          0.9407927747114903,
          0.9366790165038733,
          0.9121405750798722,
          0.6150770988006853,
          0.43795798729848556,
          0.8853610564765384,
          0.6404816513761468,
          0.6973586768699087,
          0.90757538612405,
          0.5741324921135647,
          0.9207332816937774,
          0.6999755680430002,
          0.7908440629470672,
          0.5070388349514563,
          0.6034985422740525,
          0.9181818181818182
         ]
        }
       ],
       "layout": {
        "geo": {
         "projection": {
          "type": "equirectangular"
         },
         "showcoastlines": true,
         "showframe": false
        },
        "template": {
         "data": {
          "bar": [
           {
            "error_x": {
             "color": "#2a3f5f"
            },
            "error_y": {
             "color": "#2a3f5f"
            },
            "marker": {
             "line": {
              "color": "#E5ECF6",
              "width": 0.5
             }
            },
            "type": "bar"
           }
          ],
          "barpolar": [
           {
            "marker": {
             "line": {
              "color": "#E5ECF6",
              "width": 0.5
             }
            },
            "type": "barpolar"
           }
          ],
          "carpet": [
           {
            "aaxis": {
             "endlinecolor": "#2a3f5f",
             "gridcolor": "white",
             "linecolor": "white",
             "minorgridcolor": "white",
             "startlinecolor": "#2a3f5f"
            },
            "baxis": {
             "endlinecolor": "#2a3f5f",
             "gridcolor": "white",
             "linecolor": "white",
             "minorgridcolor": "white",
             "startlinecolor": "#2a3f5f"
            },
            "type": "carpet"
           }
          ],
          "choropleth": [
           {
            "colorbar": {
             "outlinewidth": 0,
             "ticks": ""
            },
            "type": "choropleth"
           }
          ],
          "contour": [
           {
            "colorbar": {
             "outlinewidth": 0,
             "ticks": ""
            },
            "colorscale": [
             [
              0.0,
              "#0d0887"
             ],
             [
              0.1111111111111111,
              "#46039f"
             ],
             [
              0.2222222222222222,
              "#7201a8"
             ],
             [
              0.3333333333333333,
              "#9c179e"
             ],
             [
              0.4444444444444444,
              "#bd3786"
             ],
             [
              0.5555555555555556,
              "#d8576b"
             ],
             [
              0.6666666666666666,
              "#ed7953"
             ],
             [
              0.7777777777777778,
              "#fb9f3a"
             ],
             [
              0.8888888888888888,
              "#fdca26"
             ],
             [
              1.0,
              "#f0f921"
             ]
            ],
            "type": "contour"
           }
          ],
          "contourcarpet": [
           {
            "colorbar": {
             "outlinewidth": 0,
             "ticks": ""
            },
            "type": "contourcarpet"
           }
          ],
          "heatmap": [
           {
            "colorbar": {
             "outlinewidth": 0,
             "ticks": ""
            },
            "colorscale": [
             [
              0.0,
              "#0d0887"
             ],
             [
              0.1111111111111111,
              "#46039f"
             ],
             [
              0.2222222222222222,
              "#7201a8"
             ],
             [
              0.3333333333333333,
              "#9c179e"
             ],
             [
              0.4444444444444444,
              "#bd3786"
             ],
             [
              0.5555555555555556,
              "#d8576b"
             ],
             [
              0.6666666666666666,
              "#ed7953"
             ],
             [
              0.7777777777777778,
              "#fb9f3a"
             ],
             [
              0.8888888888888888,
              "#fdca26"
             ],
             [
              1.0,
              "#f0f921"
             ]
            ],
            "type": "heatmap"
           }
          ],
          "heatmapgl": [
           {
            "colorbar": {
             "outlinewidth": 0,
             "ticks": ""
            },
            "colorscale": [
             [
              0.0,
              "#0d0887"
             ],
             [
              0.1111111111111111,
              "#46039f"
             ],
             [
              0.2222222222222222,
              "#7201a8"
             ],
             [
              0.3333333333333333,
              "#9c179e"
             ],
             [
              0.4444444444444444,
              "#bd3786"
             ],
             [
              0.5555555555555556,
              "#d8576b"
             ],
             [
              0.6666666666666666,
              "#ed7953"
             ],
             [
              0.7777777777777778,
              "#fb9f3a"
             ],
             [
              0.8888888888888888,
              "#fdca26"
             ],
             [
              1.0,
              "#f0f921"
             ]
            ],
            "type": "heatmapgl"
           }
          ],
          "histogram": [
           {
            "marker": {
             "colorbar": {
              "outlinewidth": 0,
              "ticks": ""
             }
            },
            "type": "histogram"
           }
          ],
          "histogram2d": [
           {
            "colorbar": {
             "outlinewidth": 0,
             "ticks": ""
            },
            "colorscale": [
             [
              0.0,
              "#0d0887"
             ],
             [
              0.1111111111111111,
              "#46039f"
             ],
             [
              0.2222222222222222,
              "#7201a8"
             ],
             [
              0.3333333333333333,
              "#9c179e"
             ],
             [
              0.4444444444444444,
              "#bd3786"
             ],
             [
              0.5555555555555556,
              "#d8576b"
             ],
             [
              0.6666666666666666,
              "#ed7953"
             ],
             [
              0.7777777777777778,
              "#fb9f3a"
             ],
             [
              0.8888888888888888,
              "#fdca26"
             ],
             [
              1.0,
              "#f0f921"
             ]
            ],
            "type": "histogram2d"
           }
          ],
          "histogram2dcontour": [
           {
            "colorbar": {
             "outlinewidth": 0,
             "ticks": ""
            },
            "colorscale": [
             [
              0.0,
              "#0d0887"
             ],
             [
              0.1111111111111111,
              "#46039f"
             ],
             [
              0.2222222222222222,
              "#7201a8"
             ],
             [
              0.3333333333333333,
              "#9c179e"
             ],
             [
              0.4444444444444444,
              "#bd3786"
             ],
             [
              0.5555555555555556,
              "#d8576b"
             ],
             [
              0.6666666666666666,
              "#ed7953"
             ],
             [
              0.7777777777777778,
              "#fb9f3a"
             ],
             [
              0.8888888888888888,
              "#fdca26"
             ],
             [
              1.0,
              "#f0f921"
             ]
            ],
            "type": "histogram2dcontour"
           }
          ],
          "mesh3d": [
           {
            "colorbar": {
             "outlinewidth": 0,
             "ticks": ""
            },
            "type": "mesh3d"
           }
          ],
          "parcoords": [
           {
            "line": {
             "colorbar": {
              "outlinewidth": 0,
              "ticks": ""
             }
            },
            "type": "parcoords"
           }
          ],
          "scatter": [
           {
            "marker": {
             "colorbar": {
              "outlinewidth": 0,
              "ticks": ""
             }
            },
            "type": "scatter"
           }
          ],
          "scatter3d": [
           {
            "line": {
             "colorbar": {
              "outlinewidth": 0,
              "ticks": ""
             }
            },
            "marker": {
             "colorbar": {
              "outlinewidth": 0,
              "ticks": ""
             }
            },
            "type": "scatter3d"
           }
          ],
          "scattercarpet": [
           {
            "marker": {
             "colorbar": {
              "outlinewidth": 0,
              "ticks": ""
             }
            },
            "type": "scattercarpet"
           }
          ],
          "scattergeo": [
           {
            "marker": {
             "colorbar": {
              "outlinewidth": 0,
              "ticks": ""
             }
            },
            "type": "scattergeo"
           }
          ],
          "scattergl": [
           {
            "marker": {
             "colorbar": {
              "outlinewidth": 0,
              "ticks": ""
             }
            },
            "type": "scattergl"
           }
          ],
          "scattermapbox": [
           {
            "marker": {
             "colorbar": {
              "outlinewidth": 0,
              "ticks": ""
             }
            },
            "type": "scattermapbox"
           }
          ],
          "scatterpolar": [
           {
            "marker": {
             "colorbar": {
              "outlinewidth": 0,
              "ticks": ""
             }
            },
            "type": "scatterpolar"
           }
          ],
          "scatterpolargl": [
           {
            "marker": {
             "colorbar": {
              "outlinewidth": 0,
              "ticks": ""
             }
            },
            "type": "scatterpolargl"
           }
          ],
          "scatterternary": [
           {
            "marker": {
             "colorbar": {
              "outlinewidth": 0,
              "ticks": ""
             }
            },
            "type": "scatterternary"
           }
          ],
          "surface": [
           {
            "colorbar": {
             "outlinewidth": 0,
             "ticks": ""
            },
            "colorscale": [
             [
              0.0,
              "#0d0887"
             ],
             [
              0.1111111111111111,
              "#46039f"
             ],
             [
              0.2222222222222222,
              "#7201a8"
             ],
             [
              0.3333333333333333,
              "#9c179e"
             ],
             [
              0.4444444444444444,
              "#bd3786"
             ],
             [
              0.5555555555555556,
              "#d8576b"
             ],
             [
              0.6666666666666666,
              "#ed7953"
             ],
             [
              0.7777777777777778,
              "#fb9f3a"
             ],
             [
              0.8888888888888888,
              "#fdca26"
             ],
             [
              1.0,
              "#f0f921"
             ]
            ],
            "type": "surface"
           }
          ],
          "table": [
           {
            "cells": {
             "fill": {
              "color": "#EBF0F8"
             },
             "line": {
              "color": "white"
             }
            },
            "header": {
             "fill": {
              "color": "#C8D4E3"
             },
             "line": {
              "color": "white"
             }
            },
            "type": "table"
           }
          ]
         },
         "layout": {
          "annotationdefaults": {
           "arrowcolor": "#2a3f5f",
           "arrowhead": 0,
           "arrowwidth": 1
          },
          "colorscale": {
           "diverging": [
            [
             0,
             "#8e0152"
            ],
            [
             0.1,
             "#c51b7d"
            ],
            [
             0.2,
             "#de77ae"
            ],
            [
             0.3,
             "#f1b6da"
            ],
            [
             0.4,
             "#fde0ef"
            ],
            [
             0.5,
             "#f7f7f7"
            ],
            [
             0.6,
             "#e6f5d0"
            ],
            [
             0.7,
             "#b8e186"
            ],
            [
             0.8,
             "#7fbc41"
            ],
            [
             0.9,
             "#4d9221"
            ],
            [
             1,
             "#276419"
            ]
           ],
           "sequential": [
            [
             0.0,
             "#0d0887"
            ],
            [
             0.1111111111111111,
             "#46039f"
            ],
            [
             0.2222222222222222,
             "#7201a8"
            ],
            [
             0.3333333333333333,
             "#9c179e"
            ],
            [
             0.4444444444444444,
             "#bd3786"
            ],
            [
             0.5555555555555556,
             "#d8576b"
            ],
            [
             0.6666666666666666,
             "#ed7953"
            ],
            [
             0.7777777777777778,
             "#fb9f3a"
            ],
            [
             0.8888888888888888,
             "#fdca26"
            ],
            [
             1.0,
             "#f0f921"
            ]
           ],
           "sequentialminus": [
            [
             0.0,
             "#0d0887"
            ],
            [
             0.1111111111111111,
             "#46039f"
            ],
            [
             0.2222222222222222,
             "#7201a8"
            ],
            [
             0.3333333333333333,
             "#9c179e"
            ],
            [
             0.4444444444444444,
             "#bd3786"
            ],
            [
             0.5555555555555556,
             "#d8576b"
            ],
            [
             0.6666666666666666,
             "#ed7953"
            ],
            [
             0.7777777777777778,
             "#fb9f3a"
            ],
            [
             0.8888888888888888,
             "#fdca26"
            ],
            [
             1.0,
             "#f0f921"
            ]
           ]
          },
          "colorway": [
           "#636efa",
           "#EF553B",
           "#00cc96",
           "#ab63fa",
           "#FFA15A",
           "#19d3f3",
           "#FF6692",
           "#B6E880",
           "#FF97FF",
           "#FECB52"
          ],
          "font": {
           "color": "#2a3f5f"
          },
          "geo": {
           "bgcolor": "white",
           "lakecolor": "white",
           "landcolor": "#E5ECF6",
           "showlakes": true,
           "showland": true,
           "subunitcolor": "white"
          },
          "hoverlabel": {
           "align": "left"
          },
          "hovermode": "closest",
          "mapbox": {
           "style": "light"
          },
          "paper_bgcolor": "white",
          "plot_bgcolor": "#E5ECF6",
          "polar": {
           "angularaxis": {
            "gridcolor": "white",
            "linecolor": "white",
            "ticks": ""
           },
           "bgcolor": "#E5ECF6",
           "radialaxis": {
            "gridcolor": "white",
            "linecolor": "white",
            "ticks": ""
           }
          },
          "scene": {
           "xaxis": {
            "backgroundcolor": "#E5ECF6",
            "gridcolor": "white",
            "gridwidth": 2,
            "linecolor": "white",
            "showbackground": true,
            "ticks": "",
            "zerolinecolor": "white"
           },
           "yaxis": {
            "backgroundcolor": "#E5ECF6",
            "gridcolor": "white",
            "gridwidth": 2,
            "linecolor": "white",
            "showbackground": true,
            "ticks": "",
            "zerolinecolor": "white"
           },
           "zaxis": {
            "backgroundcolor": "#E5ECF6",
            "gridcolor": "white",
            "gridwidth": 2,
            "linecolor": "white",
            "showbackground": true,
            "ticks": "",
            "zerolinecolor": "white"
           }
          },
          "shapedefaults": {
           "line": {
            "color": "#2a3f5f"
           }
          },
          "ternary": {
           "aaxis": {
            "gridcolor": "white",
            "linecolor": "white",
            "ticks": ""
           },
           "baxis": {
            "gridcolor": "white",
            "linecolor": "white",
            "ticks": ""
           },
           "bgcolor": "#E5ECF6",
           "caxis": {
            "gridcolor": "white",
            "linecolor": "white",
            "ticks": ""
           }
          },
          "title": {
           "x": 0.05
          },
          "xaxis": {
           "automargin": true,
           "gridcolor": "white",
           "linecolor": "white",
           "ticks": "",
           "zerolinecolor": "white",
           "zerolinewidth": 2
          },
          "yaxis": {
           "automargin": true,
           "gridcolor": "white",
           "linecolor": "white",
           "ticks": "",
           "zerolinecolor": "white",
           "zerolinewidth": 2
          }
         }
        },
        "title": {
         "text": "Yes vote ratio per States"
        }
       }
      },
      "text/html": [
       "<div>\n",
       "        \n",
       "        \n",
       "            <div id=\"e713a30f-c433-4392-9bc4-70d31a59c9c1\" class=\"plotly-graph-div\" style=\"height:525px; width:100%;\"></div>\n",
       "            <script type=\"text/javascript\">\n",
       "                require([\"plotly\"], function(Plotly) {\n",
       "                    window.PLOTLYENV=window.PLOTLYENV || {};\n",
       "                    \n",
       "                if (document.getElementById(\"e713a30f-c433-4392-9bc4-70d31a59c9c1\")) {\n",
       "                    Plotly.newPlot(\n",
       "                        'e713a30f-c433-4392-9bc4-70d31a59c9c1',\n",
       "                        [{\"colorbar\": {\"title\": {\"text\": \"yes_vote_ratio\"}}, \"colorscale\": [[0.0, \"rgb(255,255,204)\"], [0.125, \"rgb(255,237,160)\"], [0.25, \"rgb(254,217,118)\"], [0.375, \"rgb(254,178,76)\"], [0.5, \"rgb(253,141,60)\"], [0.625, \"rgb(252,78,42)\"], [0.75, \"rgb(227,26,28)\"], [0.875, \"rgb(189,0,38)\"], [1.0, \"rgb(128,0,38)\"]], \"locations\": [\"JPN\", \"BEN\", \"ZMB\", \"AGO\", \"GHA\", \"RUS\", \"ISL\", \"SLE\", \"SMR\", \"BDI\", \"WSM\", \"MUS\", \"IDN\", \"ARG\", \"BHR\", \"MCO\", \"PAK\", \"BGD\", \"SYR\", \"MAR\", \"NGA\", \"CAN\", \"PLW\", \"GTM\", \"OMN\", \"PER\", \"LKA\", \"SLV\", \"SAU\", \"SLB\", \"DMA\", \"LAO\", \"MNE\", \"DNK\", \"DJI\", \"YEM\", \"ZAF\", \"MDV\", \"ARM\", \"TZA\", \"GBR\", \"CHE\", \"BLR\", \"GNB\", \"SWZ\", \"IND\", \"QAT\", \"NER\", \"AUT\", \"NZL\", \"UKR\", \"ALB\", \"CYP\", \"TKM\", \"PRY\", \"DZA\", \"USA\", \"JAM\", \"MOZ\", \"ZWE\", \"MNG\", \"BIH\", \"HND\", \"CZE\", \"SSD\", \"MLI\", \"AFG\", \"KHM\", \"NAM\", \"LBR\", \"TCD\", \"CHL\", \"NLD\", \"NOR\", \"MLT\", \"DEU\", \"MDG\", \"FIN\", \"ISR\", \"LSO\", \"HRV\", \"MMR\", \"PHL\", \"TUV\", \"ERI\", \"SUR\", \"LBN\", \"UZB\", \"MHL\", \"PRK\", \"VEN\", \"PAN\", \"GEO\", \"THA\", \"TTO\", \"GIN\", \"URY\", \"HTI\", \"HUN\", \"BOL\", \"AND\", \"VUT\", \"CMR\", \"MEX\", \"ETH\", \"KGZ\", \"POL\", \"EST\", \"SDN\", \"MRT\", \"TJK\", \"GUY\", \"MDA\", \"CHN\", \"ITA\", \"BLZ\", \"LUX\", \"GAB\", \"KEN\", \"SVN\", \"ECU\", \"PNG\", \"IRL\", \"TUN\", \"JOR\", \"KWT\", \"BWA\", \"STP\", \"KAZ\", \"LIE\", \"RWA\", \"BRN\", \"CRI\", \"SEN\", \"TGO\", \"SGP\", \"NIC\", \"AZE\", \"UGA\", \"SVK\", \"LBY\", \"CUB\", \"VNM\", \"GNQ\", \"GRD\", \"ROU\", \"IRQ\", \"AUS\", \"ESP\", \"SYC\", \"TON\", \"TUR\", \"MYS\", \"BFA\", \"EGY\", \"FJI\", \"CAF\", \"MKD\", \"BRA\", \"COM\", \"IRN\", \"COL\", \"SWE\", \"ARE\", \"SOM\", \"BTN\", \"LTU\", \"FRA\", \"DOM\", \"KOR\", \"GRC\", \"NPL\", \"PRT\", \"BRB\", \"BGR\", \"MWI\", \"BEL\", \"LVA\", \"KIR\"], \"marker\": {\"line\": {\"color\": \"darkgray\", \"width\": 0.7}}, \"text\": [\"Japan\", \"Benin\", \"Zambia\", \"Angola\", \"Ghana\", \"Russia\", \"Iceland\", \"Sierra Leone\", \"San Marino\", \"Burundi\", \"Samoa\", \"Mauritius\", \"Indonesia\", \"Argentina\", \"Bahrain\", \"Monaco\", \"Pakistan\", \"Bangladesh\", \"Syria\", \"Morocco\", \"Nigeria\", \"Canada\", \"Palau\", \"Guatemala\", \"Oman\", \"Peru\", \"Sri Lanka\", \"El Salvador\", \"Saudi Arabia\", \"Solomon Islands\", \"Dominica\", \"Laos\", \"Montenegro\", \"Denmark\", \"Djibouti\", \"Yemen\", \"South Africa\", \"Maldives\", \"Armenia\", \"Tanzania\", \"United Kingdom\", \"Switzerland\", \"Belarus\", \"Guinea-Bissau\", \"Swaziland\", \"India\", \"Qatar\", \"Niger\", \"Austria\", \"New Zealand\", \"Ukraine\", \"Albania\", \"Cyprus\", \"Turkmenistan\", \"Paraguay\", \"Algeria\", \"United States\", \"Jamaica\", \"Mozambique\", \"Zimbabwe\", \"Mongolia\", \"Bosnia and Herzegovina\", \"Honduras\", \"Czech Republic\", \"South Sudan\", \"Mali\", \"Afghanistan\", \"Cambodia\", \"Namibia\", \"Liberia\", \"Chad\", \"Chile\", \"Netherlands\", \"Norway\", \"Malta\", \"Germany\", \"Madagascar\", \"Finland\", \"Israel\", \"Lesotho\", \"Croatia\", \"Burma\", \"Philippines\", \"Tuvalu\", \"Eritrea\", \"Suriname\", \"Lebanon\", \"Uzbekistan\", \"Marshall Islands\", \"Korea, North\", \"Venezuela\", \"Panama\", \"Georgia\", \"Thailand\", \"Trinidad and Tobago\", \"Guinea\", \"Uruguay\", \"Haiti\", \"Hungary\", \"Bolivia\", \"Andorra\", \"Vanuatu\", \"Cameroon\", \"Mexico\", \"Ethiopia\", \"Kyrgyzstan\", \"Poland\", \"Estonia\", \"Sudan\", \"Mauritania\", \"Tajikistan\", \"Guyana\", \"Moldova\", \"China\", \"Italy\", \"Belize\", \"Luxembourg\", \"Gabon\", \"Kenya\", \"Slovenia\", \"Ecuador\", \"Papua New Guinea\", \"Ireland\", \"Tunisia\", \"Jordan\", \"Kuwait\", \"Botswana\", \"Sao Tome and Principe\", \"Kazakhstan\", \"Liechtenstein\", \"Rwanda\", \"Brunei\", \"Costa Rica\", \"Senegal\", \"Togo\", \"Singapore\", \"Nicaragua\", \"Azerbaijan\", \"Uganda\", \"Slovakia\", \"Libya\", \"Cuba\", \"Vietnam\", \"Equatorial Guinea\", \"Grenada\", \"Romania\", \"Iraq\", \"Australia\", \"Spain\", \"Seychelles\", \"Tonga\", \"Turkey\", \"Malaysia\", \"Burkina Faso\", \"Egypt\", \"Fiji\", \"Central African Republic\", \"Macedonia\", \"Brazil\", \"Comoros\", \"Iran\", \"Colombia\", \"Sweden\", \"United Arab Emirates\", \"Somalia\", \"Bhutan\", \"Lithuania\", \"France\", \"Dominican Republic\", \"Korea, South\", \"Greece\", \"Nepal\", \"Portugal\", \"Barbados\", \"Bulgaria\", \"Malawi\", \"Belgium\", \"Latvia\", \"Kiribati\"], \"type\": \"choropleth\", \"z\": [0.5803246910588805, 0.9281421478965247, 0.9364133134624938, 0.9213630406290957, 0.9391874842291194, 0.7288424124513618, 0.6084396467124632, 0.9369146005509642, 0.6664425016812374, 0.9357064017660044, 0.8490387645761109, 0.9413802291500133, 0.9228529839883551, 0.8352453014400781, 0.9324656188605108, 0.6408730158730159, 0.895405669599218, 0.9379163335997869, 0.887711329800656, 0.9272136068034017, 0.9357409713574097, 0.5044783345436941, 0.3172103487064117, 0.8415736310473153, 0.9287871162556618, 0.9151264591439688, 0.9277791471530688, 0.8813928182807399, 0.9253353581371805, 0.8981891348088531, 0.8766756032171582, 0.9065148305084746, 0.6412429378531074, 0.586282113427048, 0.9560240963855422, 0.9066666666666666, 0.8330522765598651, 0.9480837184017396, 0.7572575663990118, 0.9284110750810676, 0.42033568474823646, 0.6527363184079602, 0.7908125463077303, 0.9556067083196317, 0.889988358556461, 0.8411464658732086, 0.9388667992047713, 0.9363735663571818, 0.6497216170418785, 0.6410007286859364, 0.7410387710314558, 0.7406901264092928, 0.8549975381585426, 0.9121212121212121, 0.8418512208972175, 0.9147324700708527, 0.21171609139523578, 0.9168539325842696, 0.9422572178477691, 0.9380804953560371, 0.8469903894790086, 0.6840062111801242, 0.8757286698463169, 0.624, 0.6709677419354839, 0.9409704852426213, 0.9096465585968642, 0.9472822527832351, 0.9278290993071594, 0.8894887265798667, 0.9251980982567354, 0.8835911742328176, 0.5399903053805138, 0.6012135922330097, 0.8370914618697746, 0.7818627450980392, 0.9403225806451613, 0.6547128664889751, 0.28800413650465356, 0.9212642084835043, 0.6384039900249376, 0.8686688724866378, 0.9244912968864918, 0.84992784992785, 0.926950354609929, 0.9405852793378658, 0.916338840807763, 0.7568523430592397, 0.48680904522613067, 0.8451612903225807, 0.9148988051694709, 0.9014514896867838, 0.5960912052117264, 0.9178082191780822, 0.9399346569489822, 0.9395903551983407, 0.8682440846824409, 0.9061870503597123, 0.6987509184423218, 0.9128323108384458, 0.6426735218508998, 0.8928255093002657, 0.8514776458701693, 0.9328484848484848, 0.9144076305220884, 0.8419452887537994, 0.7032886723507917, 0.6142278773857721, 0.9275870709095465, 0.9342931937172775, 0.8410174880763116, 0.9468348170128585, 0.6203759854457247, 0.8689747003994673, 0.5275552318523914, 0.9333881578947368, 0.5187256809338522, 0.9185595567867036, 0.9224181360201511, 0.6365809922295278, 0.9256340802757942, 0.8751486325802615, 0.630418987648341, 0.9426470588235294, 0.9306142750559562, 0.9443754656071517, 0.9414737962223996, 0.9670468948035488, 0.8236009732360098, 0.6410118406889128, 0.9257518796992481, 0.9300334946036471, 0.8744834710743802, 0.9457383548067394, 0.930558975621768, 0.8969712015888779, 0.8869001297016861, 0.8670076726342711, 0.914187944195841, 0.6317088217149908, 0.9213709677419355, 0.8421442687747036, 0.9075579644685335, 0.8830275229357798, 0.8762816131237184, 0.7655360237682595, 0.914752116082225, 0.5804026194518555, 0.6435691709214685, 0.9780775716694773, 0.7240223463687151, 0.7380073800738007, 0.9278450363196126, 0.9352610030706243, 0.9139364303178484, 0.8526425410049466, 0.8816489361702128, 0.6346153846153846, 0.8749085588880761, 0.9446435682994823, 0.9148232901093313, 0.8959523218276633, 0.6484980620155039, 0.9407927747114903, 0.9366790165038733, 0.9121405750798722, 0.6150770988006853, 0.43795798729848556, 0.8853610564765384, 0.6404816513761468, 0.6973586768699087, 0.90757538612405, 0.5741324921135647, 0.9207332816937774, 0.6999755680430002, 0.7908440629470672, 0.5070388349514563, 0.6034985422740525, 0.9181818181818182]}],\n",
       "                        {\"geo\": {\"projection\": {\"type\": \"equirectangular\"}, \"showcoastlines\": true, \"showframe\": false}, \"template\": {\"data\": {\"bar\": [{\"error_x\": {\"color\": \"#2a3f5f\"}, \"error_y\": {\"color\": \"#2a3f5f\"}, \"marker\": {\"line\": {\"color\": \"#E5ECF6\", \"width\": 0.5}}, \"type\": \"bar\"}], \"barpolar\": [{\"marker\": {\"line\": {\"color\": \"#E5ECF6\", \"width\": 0.5}}, \"type\": \"barpolar\"}], \"carpet\": [{\"aaxis\": {\"endlinecolor\": \"#2a3f5f\", \"gridcolor\": \"white\", \"linecolor\": \"white\", \"minorgridcolor\": \"white\", \"startlinecolor\": \"#2a3f5f\"}, \"baxis\": {\"endlinecolor\": \"#2a3f5f\", \"gridcolor\": \"white\", \"linecolor\": \"white\", \"minorgridcolor\": \"white\", \"startlinecolor\": \"#2a3f5f\"}, \"type\": \"carpet\"}], \"choropleth\": [{\"colorbar\": {\"outlinewidth\": 0, \"ticks\": \"\"}, \"type\": \"choropleth\"}], \"contour\": [{\"colorbar\": {\"outlinewidth\": 0, \"ticks\": \"\"}, \"colorscale\": [[0.0, \"#0d0887\"], [0.1111111111111111, \"#46039f\"], [0.2222222222222222, \"#7201a8\"], [0.3333333333333333, \"#9c179e\"], [0.4444444444444444, \"#bd3786\"], [0.5555555555555556, \"#d8576b\"], [0.6666666666666666, \"#ed7953\"], [0.7777777777777778, \"#fb9f3a\"], [0.8888888888888888, \"#fdca26\"], [1.0, \"#f0f921\"]], \"type\": \"contour\"}], \"contourcarpet\": [{\"colorbar\": {\"outlinewidth\": 0, \"ticks\": \"\"}, \"type\": \"contourcarpet\"}], \"heatmap\": [{\"colorbar\": {\"outlinewidth\": 0, \"ticks\": \"\"}, \"colorscale\": [[0.0, \"#0d0887\"], [0.1111111111111111, \"#46039f\"], [0.2222222222222222, \"#7201a8\"], [0.3333333333333333, \"#9c179e\"], [0.4444444444444444, \"#bd3786\"], [0.5555555555555556, \"#d8576b\"], [0.6666666666666666, \"#ed7953\"], [0.7777777777777778, \"#fb9f3a\"], [0.8888888888888888, \"#fdca26\"], [1.0, \"#f0f921\"]], \"type\": \"heatmap\"}], \"heatmapgl\": [{\"colorbar\": {\"outlinewidth\": 0, \"ticks\": \"\"}, \"colorscale\": [[0.0, \"#0d0887\"], [0.1111111111111111, \"#46039f\"], [0.2222222222222222, \"#7201a8\"], [0.3333333333333333, \"#9c179e\"], [0.4444444444444444, \"#bd3786\"], [0.5555555555555556, \"#d8576b\"], [0.6666666666666666, \"#ed7953\"], [0.7777777777777778, \"#fb9f3a\"], [0.8888888888888888, \"#fdca26\"], [1.0, \"#f0f921\"]], \"type\": \"heatmapgl\"}], \"histogram\": [{\"marker\": {\"colorbar\": {\"outlinewidth\": 0, \"ticks\": \"\"}}, \"type\": \"histogram\"}], \"histogram2d\": [{\"colorbar\": {\"outlinewidth\": 0, \"ticks\": \"\"}, \"colorscale\": [[0.0, \"#0d0887\"], [0.1111111111111111, \"#46039f\"], [0.2222222222222222, \"#7201a8\"], [0.3333333333333333, \"#9c179e\"], [0.4444444444444444, \"#bd3786\"], [0.5555555555555556, \"#d8576b\"], [0.6666666666666666, \"#ed7953\"], [0.7777777777777778, \"#fb9f3a\"], [0.8888888888888888, \"#fdca26\"], [1.0, \"#f0f921\"]], \"type\": \"histogram2d\"}], \"histogram2dcontour\": [{\"colorbar\": {\"outlinewidth\": 0, \"ticks\": \"\"}, \"colorscale\": [[0.0, \"#0d0887\"], [0.1111111111111111, \"#46039f\"], [0.2222222222222222, \"#7201a8\"], [0.3333333333333333, \"#9c179e\"], [0.4444444444444444, \"#bd3786\"], [0.5555555555555556, \"#d8576b\"], [0.6666666666666666, \"#ed7953\"], [0.7777777777777778, \"#fb9f3a\"], [0.8888888888888888, \"#fdca26\"], [1.0, \"#f0f921\"]], \"type\": \"histogram2dcontour\"}], \"mesh3d\": [{\"colorbar\": {\"outlinewidth\": 0, \"ticks\": \"\"}, \"type\": \"mesh3d\"}], \"parcoords\": [{\"line\": {\"colorbar\": {\"outlinewidth\": 0, \"ticks\": \"\"}}, \"type\": \"parcoords\"}], \"scatter\": [{\"marker\": {\"colorbar\": {\"outlinewidth\": 0, \"ticks\": \"\"}}, \"type\": \"scatter\"}], \"scatter3d\": [{\"line\": {\"colorbar\": {\"outlinewidth\": 0, \"ticks\": \"\"}}, \"marker\": {\"colorbar\": {\"outlinewidth\": 0, \"ticks\": \"\"}}, \"type\": \"scatter3d\"}], \"scattercarpet\": [{\"marker\": {\"colorbar\": {\"outlinewidth\": 0, \"ticks\": \"\"}}, \"type\": \"scattercarpet\"}], \"scattergeo\": [{\"marker\": {\"colorbar\": {\"outlinewidth\": 0, \"ticks\": \"\"}}, \"type\": \"scattergeo\"}], \"scattergl\": [{\"marker\": {\"colorbar\": {\"outlinewidth\": 0, \"ticks\": \"\"}}, \"type\": \"scattergl\"}], \"scattermapbox\": [{\"marker\": {\"colorbar\": {\"outlinewidth\": 0, \"ticks\": \"\"}}, \"type\": \"scattermapbox\"}], \"scatterpolar\": [{\"marker\": {\"colorbar\": {\"outlinewidth\": 0, \"ticks\": \"\"}}, \"type\": \"scatterpolar\"}], \"scatterpolargl\": [{\"marker\": {\"colorbar\": {\"outlinewidth\": 0, \"ticks\": \"\"}}, \"type\": \"scatterpolargl\"}], \"scatterternary\": [{\"marker\": {\"colorbar\": {\"outlinewidth\": 0, \"ticks\": \"\"}}, \"type\": \"scatterternary\"}], \"surface\": [{\"colorbar\": {\"outlinewidth\": 0, \"ticks\": \"\"}, \"colorscale\": [[0.0, \"#0d0887\"], [0.1111111111111111, \"#46039f\"], [0.2222222222222222, \"#7201a8\"], [0.3333333333333333, \"#9c179e\"], [0.4444444444444444, \"#bd3786\"], [0.5555555555555556, \"#d8576b\"], [0.6666666666666666, \"#ed7953\"], [0.7777777777777778, \"#fb9f3a\"], [0.8888888888888888, \"#fdca26\"], [1.0, \"#f0f921\"]], \"type\": \"surface\"}], \"table\": [{\"cells\": {\"fill\": {\"color\": \"#EBF0F8\"}, \"line\": {\"color\": \"white\"}}, \"header\": {\"fill\": {\"color\": \"#C8D4E3\"}, \"line\": {\"color\": \"white\"}}, \"type\": \"table\"}]}, \"layout\": {\"annotationdefaults\": {\"arrowcolor\": \"#2a3f5f\", \"arrowhead\": 0, \"arrowwidth\": 1}, \"colorscale\": {\"diverging\": [[0, \"#8e0152\"], [0.1, \"#c51b7d\"], [0.2, \"#de77ae\"], [0.3, \"#f1b6da\"], [0.4, \"#fde0ef\"], [0.5, \"#f7f7f7\"], [0.6, \"#e6f5d0\"], [0.7, \"#b8e186\"], [0.8, \"#7fbc41\"], [0.9, \"#4d9221\"], [1, \"#276419\"]], \"sequential\": [[0.0, \"#0d0887\"], [0.1111111111111111, \"#46039f\"], [0.2222222222222222, \"#7201a8\"], [0.3333333333333333, \"#9c179e\"], [0.4444444444444444, \"#bd3786\"], [0.5555555555555556, \"#d8576b\"], [0.6666666666666666, \"#ed7953\"], [0.7777777777777778, \"#fb9f3a\"], [0.8888888888888888, \"#fdca26\"], [1.0, \"#f0f921\"]], \"sequentialminus\": [[0.0, \"#0d0887\"], [0.1111111111111111, \"#46039f\"], [0.2222222222222222, \"#7201a8\"], [0.3333333333333333, \"#9c179e\"], [0.4444444444444444, \"#bd3786\"], [0.5555555555555556, \"#d8576b\"], [0.6666666666666666, \"#ed7953\"], [0.7777777777777778, \"#fb9f3a\"], [0.8888888888888888, \"#fdca26\"], [1.0, \"#f0f921\"]]}, \"colorway\": [\"#636efa\", \"#EF553B\", \"#00cc96\", \"#ab63fa\", \"#FFA15A\", \"#19d3f3\", \"#FF6692\", \"#B6E880\", \"#FF97FF\", \"#FECB52\"], \"font\": {\"color\": \"#2a3f5f\"}, \"geo\": {\"bgcolor\": \"white\", \"lakecolor\": \"white\", \"landcolor\": \"#E5ECF6\", \"showlakes\": true, \"showland\": true, \"subunitcolor\": \"white\"}, \"hoverlabel\": {\"align\": \"left\"}, \"hovermode\": \"closest\", \"mapbox\": {\"style\": \"light\"}, \"paper_bgcolor\": \"white\", \"plot_bgcolor\": \"#E5ECF6\", \"polar\": {\"angularaxis\": {\"gridcolor\": \"white\", \"linecolor\": \"white\", \"ticks\": \"\"}, \"bgcolor\": \"#E5ECF6\", \"radialaxis\": {\"gridcolor\": \"white\", \"linecolor\": \"white\", \"ticks\": \"\"}}, \"scene\": {\"xaxis\": {\"backgroundcolor\": \"#E5ECF6\", \"gridcolor\": \"white\", \"gridwidth\": 2, \"linecolor\": \"white\", \"showbackground\": true, \"ticks\": \"\", \"zerolinecolor\": \"white\"}, \"yaxis\": {\"backgroundcolor\": \"#E5ECF6\", \"gridcolor\": \"white\", \"gridwidth\": 2, \"linecolor\": \"white\", \"showbackground\": true, \"ticks\": \"\", \"zerolinecolor\": \"white\"}, \"zaxis\": {\"backgroundcolor\": \"#E5ECF6\", \"gridcolor\": \"white\", \"gridwidth\": 2, \"linecolor\": \"white\", \"showbackground\": true, \"ticks\": \"\", \"zerolinecolor\": \"white\"}}, \"shapedefaults\": {\"line\": {\"color\": \"#2a3f5f\"}}, \"ternary\": {\"aaxis\": {\"gridcolor\": \"white\", \"linecolor\": \"white\", \"ticks\": \"\"}, \"baxis\": {\"gridcolor\": \"white\", \"linecolor\": \"white\", \"ticks\": \"\"}, \"bgcolor\": \"#E5ECF6\", \"caxis\": {\"gridcolor\": \"white\", \"linecolor\": \"white\", \"ticks\": \"\"}}, \"title\": {\"x\": 0.05}, \"xaxis\": {\"automargin\": true, \"gridcolor\": \"white\", \"linecolor\": \"white\", \"ticks\": \"\", \"zerolinecolor\": \"white\", \"zerolinewidth\": 2}, \"yaxis\": {\"automargin\": true, \"gridcolor\": \"white\", \"linecolor\": \"white\", \"ticks\": \"\", \"zerolinecolor\": \"white\", \"zerolinewidth\": 2}}}, \"title\": {\"text\": \"Yes vote ratio per States\"}},\n",
       "                        {\"responsive\": true}\n",
       "                    ).then(function(){\n",
       "                            \n",
       "var gd = document.getElementById('e713a30f-c433-4392-9bc4-70d31a59c9c1');\n",
       "var x = new MutationObserver(function (mutations, observer) {{\n",
       "        var display = window.getComputedStyle(gd).display;\n",
       "        if (!display || display === 'none') {{\n",
       "            console.log([gd, 'removed!']);\n",
       "            Plotly.purge(gd);\n",
       "            observer.disconnect();\n",
       "        }}\n",
       "}});\n",
       "\n",
       "// Listen for the removal of the full notebook cells\n",
       "var notebookContainer = gd.closest('#notebook-container');\n",
       "if (notebookContainer) {{\n",
       "    x.observe(notebookContainer, {childList: true});\n",
       "}}\n",
       "\n",
       "// Listen for the clearing of the current output cell\n",
       "var outputEl = gd.closest('.output');\n",
       "if (outputEl) {{\n",
       "    x.observe(outputEl, {childList: true});\n",
       "}}\n",
       "\n",
       "                        })\n",
       "                };\n",
       "                });\n",
       "            </script>\n",
       "        </div>"
      ]
     },
     "metadata": {},
     "output_type": "display_data"
    }
   ],
   "source": [
    "data=dict(\n",
    "    type = 'choropleth',\n",
    "    locations = countries['Code'],\n",
    "    z = countries['yes_vote_ratio'],\n",
    "    text = countries['Country'],\n",
    "    colorscale = 'YlOrRd',\n",
    "    marker_line_color='darkgray',\n",
    "    marker_line_width=0.7,\n",
    "    colorbar_title = \"yes_vote_ratio\",\n",
    ")\n",
    "\n",
    "layout = dict(title_text='Yes vote ratio per States',\n",
    "    geo=dict(\n",
    "        showframe=False,\n",
    "        showcoastlines=True,\n",
    "        projection_type='equirectangular'\n",
    "    ))\n",
    "\n",
    "fig = go.Figure(data = [data], layout = layout)\n",
    "iplot(fig)"
   ]
  },
  {
   "cell_type": "markdown",
   "metadata": {},
   "source": [
    "### Can someone explain why western countries like US, European cast more \"no\" votes than Asia, African countries?"
   ]
  },
  {
   "cell_type": "code",
   "execution_count": null,
   "metadata": {},
   "outputs": [],
   "source": []
  }
 ],
 "metadata": {
  "kernelspec": {
   "display_name": "Python 3",
   "language": "python",
   "name": "python3"
  },
  "language_info": {
   "codemirror_mode": {
    "name": "ipython",
    "version": 3
   },
   "file_extension": ".py",
   "mimetype": "text/x-python",
   "name": "python",
   "nbconvert_exporter": "python",
   "pygments_lexer": "ipython3",
   "version": "3.6.6"
  }
 },
 "nbformat": 4,
 "nbformat_minor": 1
}
